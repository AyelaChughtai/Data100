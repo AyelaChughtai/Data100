{
 "cells": [
  {
   "cell_type": "code",
   "execution_count": 1,
   "metadata": {
    "deletable": false,
    "editable": false
   },
   "outputs": [
    {
     "name": "stdout",
     "output_type": "stream",
     "text": [
      "=====================================================================\n",
      "Assignment: hw1\n",
      "OK, version v1.13.11\n",
      "=====================================================================\n",
      "\n"
     ]
    }
   ],
   "source": [
    "# Initialize OK\n",
    "from client.api.notebook import Notebook\n",
    "ok = Notebook('hw1.ok')"
   ]
  },
  {
   "cell_type": "markdown",
   "metadata": {},
   "source": [
    "# HW 1: Math Review and Plotting\n",
    "## Due Date: Monday Jan 27, 11:59 PM\n",
    "## Collaboration Policy\n",
    "\n",
    "Data science is a collaborative activity. While you may talk with others about\n",
    "the homework, we ask that you **write your solutions individually**. If you do\n",
    "discuss the assignments with others please **include their names** at the top\n",
    "of your notebook."
   ]
  },
  {
   "cell_type": "markdown",
   "metadata": {},
   "source": [
    "**Collaborators**: Sara Siddiqui"
   ]
  },
  {
   "cell_type": "markdown",
   "metadata": {},
   "source": [
    "## This Assignment\n",
    "\n",
    "The purpose of this assignment is for you to combine Python, math, and the ideas in Data 8 to draw some interesting conclusions. The methods and results will help build the foundation of Data 100.\n",
    "\n",
    "## Score Breakdown\n",
    "Question | Points\n",
    "--- | ---\n",
    "1a | 1\n",
    "1b | 1\n",
    "1c | 2\n",
    "1d | 3\n",
    "2a | 1\n",
    "2b | 2\n",
    "2c | 2\n",
    "3a | 1\n",
    "3b | 2\n",
    "3c | 1\n",
    "3d | 1\n",
    "3e | 2\n",
    "4 | 3\n",
    "5a | 1\n",
    "5b | 1\n",
    "5c | 2\n",
    "5d | 2\n",
    "5e | 1\n",
    "6a | 2\n",
    "6b | 2\n",
    "6c | 1\n",
    "6d | 2\n",
    "6e | 2\n",
    "7 | 1\n",
    "Total | 39"
   ]
  },
  {
   "cell_type": "markdown",
   "metadata": {},
   "source": [
    "### Jupyter Shortcuts ###\n",
    "\n",
    "Here are some useful Jupyter notebook keyboard shortcuts.  To learn more keyboard shortcuts, go to **Help -> Keyboard Shortcuts** in the menu above. \n",
    "\n",
    "Here are a few we like:\n",
    "1. `ctrl`+`return` : *Evaluate the current cell*\n",
    "1. `shift`+`return`: *Evaluate the current cell and move to the next*\n",
    "1. `esc` : *command mode* (may need to press before using any of the commands below)\n",
    "1. `a` : *create a cell above*\n",
    "1. `b` : *create a cell below*\n",
    "1. `dd` : *delete a cell*\n",
    "1. `m` : *convert a cell to markdown*\n",
    "1. `y` : *convert a cell to code*"
   ]
  },
  {
   "cell_type": "markdown",
   "metadata": {},
   "source": [
    "### Preliminary: LaTex ###\n",
    "You should use LaTeX to format math in your answers. If you aren't familiar with LaTeX, not to worry. It's not hard to use in a Jupyter notebook. Just place your math in between dollar signs:\n",
    "\n",
    "\\\\$ f(x) = 2x \\\\$ becomes $ f(x) = 2x $.\n",
    "\n",
    "If you have a longer equation, use double dollar signs to place it on a line by itself:\n",
    "\n",
    "\\\\$\\\\$ \\sum_{i=0}^n i^2 \\\\$\\\\$ becomes:\n",
    "\n",
    "$$ \\sum_{i=0}^n i^2 $$.\n",
    "\n",
    "Here is some handy LaTex:\n",
    "\n",
    "| Output | Latex   |\n",
    "|:--|:--|\n",
    "| $$x^{a + b}$$  | `x^{a + b}` |\n",
    "| $$x_{a + b}$$ | `x_{a + b}` |\n",
    "| $$\\frac{a}{b}$$ | `\\frac{a}{b}` |\n",
    "| $$\\sqrt{a + b}$$ | `\\sqrt{a + b}` |\n",
    "| $$\\{ \\alpha, \\beta, \\gamma, \\pi, \\mu, \\sigma^2  \\}$$ | `\\{ \\alpha, \\beta, \\gamma, \\pi, \\mu, \\sigma^2  \\}` |\n",
    "| $$\\sum_{x=1}^{100}$$ | `\\sum_{x=1}^{100}` |\n",
    "| $$\\frac{\\partial}{\\partial x} $$ | `\\frac{\\partial}{\\partial x} ` |\n",
    "| $$\\begin{bmatrix} 2x + 4y \\\\ 4x + 6y^2 \\\\ \\end{bmatrix}$$ | `\\begin{bmatrix} 2x + 4y \\\\ 4x + 6y^2 \\\\ \\end{bmatrix}`|\n",
    "\n",
    "\n",
    "\n",
    "[For more about basic LaTeX formatting, you can read this article.](https://www.sharelatex.com/learn/Mathematical_expressions)\n"
   ]
  },
  {
   "cell_type": "markdown",
   "metadata": {},
   "source": [
    "### Preliminary: Sums ###\n",
    "\n",
    "Here's a recap of some basic algebra written in sigma notation. The facts are all just applications of the ordinary associative and distributive properties of addition and multiplication, written compactly and without the possibly ambiguous \"...\". But if you are ever unsure of whether you're working correctly with a sum, you can always try writing $\\sum_{i=1}^n a_i$ as $a_1 + a_2 + \\cdots + a_n$ and see if that helps.\n",
    "\n",
    "- You can use any reasonable notation for the index over which you are summing, just as in Python you can use any reasonable name in `for name in list`. Thus $\\sum_{i=1}^n a_i = \\sum_{k=1}^n a_k$.\n",
    "- $\\sum_{i=1}^n (a_i + b_i) = \\sum_{i=1}^n a_i + \\sum_{i=1}^n b_i$\n",
    "- $\\sum_{i=1}^n d = nd$\n",
    "- $\\sum_{i=1}^n (ca_i + d) = c\\sum_{i=1}^n a_i + nd$ "
   ]
  },
  {
   "cell_type": "markdown",
   "metadata": {},
   "source": [
    "## A Least Squares Predictor ##"
   ]
  },
  {
   "cell_type": "markdown",
   "metadata": {
    "deletable": false,
    "editable": false
   },
   "source": [
    "### Question 1###\n",
    "Let $x_1, x_2, \\ldots, x_n$ be a list of numbers. You can think of each index $i$ as the label of a household, and the entry $x_i$ as the annual income of Household $i$. Define the *mean* or *average* of the list to be\n",
    "$\\mu ~ = ~ \\frac{1}{n}\\sum_{i=1}^n x_i$.\n",
    "\n",
    "<!--\n",
    "BEGIN QUESTION\n",
    "name: q1a\n",
    "manual: true\n",
    "-->\n",
    "\n",
    "#### Question 1a) ####\n",
    "The $i$th *deviation from average* is the difference $x_i - \\mu$. In Data 8 you saw in numerical examples that the [sum of all these deviations is 0](https://www.inferentialthinking.com/chapters/14/2/Variability.html#The-Rough-Size-of-Deviations-from-Average). Now prove that fact. That is, show that $\\sum_{i=1}^n (x_i - \\mu) = 0$.\n",
    "\n",
    "**Note: In this class, you must always put your answer in the cell that immediately follows the question. DO NOT create any cells between this one and the one that says** _Write your answer here, replacing this text._\n",
    "<!-- EXPORT TO PDF -->"
   ]
  },
  {
   "cell_type": "markdown",
   "metadata": {},
   "source": [
    "$$\\mu ~ = ~ \\frac{1}{n}\\sum_{i=1}^n x_i$$\n",
    "$$n\\mu ~ = ~ \\sum_{i=1}^n x_i$$\n",
    "$$\\sum_{i=1}^n x_i - n\\mu ~ = ~ 0$$\n",
    "$$\\sum_{i=1}^n x_i - \\sum_{i=1}^n \\mu ~ = ~ 0$$\n",
    "$$\\sum_{i=1}^n (x_i - \\mu) ~ = ~ 0$$"
   ]
  },
  {
   "cell_type": "markdown",
   "metadata": {
    "deletable": false,
    "editable": false
   },
   "source": [
    "#### Question 1b) ####\n",
    "[Recall](https://www.inferentialthinking.com/chapters/14/2/Variability.html#The-Rough-Size-of-Deviations-from-Average) that the *variance* of a list is defined as the *mean squared deviation from average*, and that the [*standard deviation*](https://www.inferentialthinking.com/chapters/14/2/Variability.html#Standard-Deviation) (SD) of the list is the square root of the variance. The SD is in the same units as the data and measures the rough size of the deviations from average.\n",
    "\n",
    "Denote the variance of the list by $\\sigma^2$. Write a math expression for $\\sigma^2$. We recommend building your expression by reading the definition of variance from right to left. That is, start by writing the notation for \"average\", then \"deviation from average\", and so on.\n",
    "\n",
    "\n",
    "<!--\n",
    "BEGIN QUESTION\n",
    "name: q1b\n",
    "manual: true\n",
    "-->\n",
    "<!-- EXPORT TO PDF -->"
   ]
  },
  {
   "cell_type": "markdown",
   "metadata": {},
   "source": [
    "$$\\sigma^2 = \\frac{\\sum_{i=1}^n (x_i - \\mu)^2}{n} $$"
   ]
  },
  {
   "cell_type": "markdown",
   "metadata": {
    "deletable": false,
    "editable": false
   },
   "source": [
    "#### Question 1c) ####\n",
    "Suppose you have to predict the value of $x_i$ for some $i$, but you don't get to see $i$ and you certainly don't get to see $x_i$. You decide that whatever $x_i$ is, you're just going use you favorite number as your predictor, and your favorite number is $\\mu$.\n",
    "\n",
    "The *error* in your prediction is $x_i - \\mu$, which is your old friend the deviation from average. Thus the *mean squared error* (MSE) of your predictor $\\mu$ over the entire list is the mean squared deviation from average, which is your old friend the variance. So we will write $\\sigma^2 = MSE(\\mu)$.\n",
    "\n",
    "Now suppose I decide that whatever $x_i$ is, I'm just going to use *my* favorite number as my predictor, and my favorite number is $c$. Write a math expression for $MSE(c)$. Again, go from right to left: first $c$, then the error, and so on.\n",
    "\n",
    "<!--\n",
    "BEGIN QUESTION\n",
    "name: q1c\n",
    "manual: true\n",
    "-->\n",
    "<!-- EXPORT TO PDF -->"
   ]
  },
  {
   "cell_type": "markdown",
   "metadata": {},
   "source": [
    "$$MSE(c) = \\frac{\\sum_{i=1}^n (x_i - c)^2}{n} $$"
   ]
  },
  {
   "cell_type": "markdown",
   "metadata": {
    "deletable": false,
    "editable": false
   },
   "source": [
    "#### Question 1d) ####\n",
    "Whose predictor is better? It seems reasonable to guess that your predictor $\\mu$ is better than my favorite but possibly weird $c$. Show that $MSE(c) > MSE(\\mu)$ for all $c \\ne \\mu$, by the method indicated below.\n",
    "\n",
    "- Write the error $x_i - c$ as $x_i - c = (x_i - \\mu) + (\\mu - c)$.\n",
    "- Substitute this expression for $x_i - c$ in your formula for $MSE(c)$.\n",
    "- Expand the square and use properties of sums; don't forget what you showed in Part **a**.\n",
    "\n",
    "This shows that $\\mu$ is the *least squares* constant predictor. In Data 8 you found (numerically) the [least squares linear predictor](https://www.inferentialthinking.com/chapters/15/3/Method_of_Least_Squares.html) of a variable $y$ based on a related variable $x$. We will return to that later in this course, using a generalization of the calculation in this exercise.\n",
    "\n",
    "<!--\n",
    "BEGIN QUESTION\n",
    "name: q1d\n",
    "manual: true\n",
    "-->\n",
    "<!-- EXPORT TO PDF -->"
   ]
  },
  {
   "cell_type": "markdown",
   "metadata": {},
   "source": [
    "$$MSE(c) = \\frac{\\sum_{i=1}^n ((x_i - c))^2}{n} $$\n",
    "$$MSE(c) = \\frac{\\sum_{i=1}^n ((x_i - \\mu) + (\\mu - c))^2}{n} $$\n",
    "$$MSE(c) = \\frac{\\sum_{i=1}^n ((x_i - \\mu)^2 + 2(x_i - \\mu)(\\mu - c) + (\\mu - c)^2)}{n} $$\n",
    "$$MSE(c) = MSE(\\mu) + \\frac{\\sum_{i=1}^n (2(x_i - \\mu)(\\mu - c) + (\\mu - c)^2)}{n} $$\n",
    "$$MSE(c) = MSE(\\mu) + \\frac{2 \\sum_{i=1}^n (x_i - \\mu)(\\mu - c)}{n}  + \\frac{\\sum_{i=1}^n (\\mu - c)^2}{n}$$\n",
    "\n",
    "The term $\\frac{\\sum_{i=1}^n (\\mu - c)^2}{n}$ is positive because $(\\mu - c)$ is being squared and, thus, is always positive. The term $\\frac{2\\sum_{i=1}^n (x_i - \\mu)(\\mu - c)}{n}$ is always 0 because $\\sum_{i=1}^n (x_i - \\mu) ~ = ~ 0$. Therefore, if $MSE(\\mu)$ is being added to a positive number to equal $MSE(c)$, it must be true that $MSE(c)>MSE(\\mu)$ for all $c \\ne \\mu$. "
   ]
  },
  {
   "cell_type": "markdown",
   "metadata": {},
   "source": [
    "### Initialize your environment\n",
    "\n",
    "This cell should run without error if you're using the course Jupyter Hub or you have [set up your personal computer correctly](http://www.ds100.org/sp20/setup)."
   ]
  },
  {
   "cell_type": "code",
   "execution_count": 4,
   "metadata": {},
   "outputs": [],
   "source": [
    "import numpy as np\n",
    "import matplotlib\n",
    "import matplotlib.pyplot as plt\n",
    "plt.style.use('fivethirtyeight')"
   ]
  },
  {
   "cell_type": "markdown",
   "metadata": {},
   "source": [
    "### Preliminary: NumPy ###\n",
    "\n",
    "You should be able to understand the code in the following cells. If not, review the following:\n",
    "\n",
    "* [The Data 8 Textbook Chapter on NumPy](https://www.inferentialthinking.com/chapters/05/1/Arrays)\n",
    "* [DS100 NumPy Review](http://ds100.org/fa17/assets/notebooks/numpy/Numpy_Review.html)\n",
    "* [Condensed NumPy Review](http://cs231n.github.io/python-numpy-tutorial/#numpy)\n",
    "* [The Official NumPy Tutorial](https://docs.scipy.org/doc/numpy-dev/user/quickstart.html)"
   ]
  },
  {
   "cell_type": "markdown",
   "metadata": {},
   "source": [
    "**Jupyter pro-tip**: Pull up the docs for any function in Jupyter by running a cell with\n",
    "the function name and a `?` at the end:"
   ]
  },
  {
   "cell_type": "code",
   "execution_count": 5,
   "metadata": {},
   "outputs": [],
   "source": [
    "np.arange?"
   ]
  },
  {
   "cell_type": "markdown",
   "metadata": {},
   "source": [
    "You can close the window at the bottom by pressing `esc` several times or clicking on the x at the right hand side. "
   ]
  },
  {
   "cell_type": "markdown",
   "metadata": {},
   "source": [
    "**Another Jupyter pro-tip**: Pull up the docs for any function in Jupyter by typing the function\n",
    "name, then `<Shift><Tab>` on your keyboard. This is super convenient when you forget the order\n",
    "of the arguments to a function. You can press `<Tab>` multiple times to expand the docs and reveal additional information.\n",
    "\n",
    "Try it on the function below:"
   ]
  },
  {
   "cell_type": "code",
   "execution_count": 6,
   "metadata": {},
   "outputs": [
    {
     "data": {
      "text/plain": [
       "<function numpy.linspace(start, stop, num=50, endpoint=True, retstep=False, dtype=None, axis=0)>"
      ]
     },
     "execution_count": 6,
     "metadata": {},
     "output_type": "execute_result"
    }
   ],
   "source": [
    "np.linspace"
   ]
  },
  {
   "cell_type": "markdown",
   "metadata": {},
   "source": [
    "## Line Plots ##"
   ]
  },
  {
   "cell_type": "markdown",
   "metadata": {
    "deletable": false,
    "editable": false
   },
   "source": [
    "### Question 2 ###\n",
    "\n",
    "\n",
    "Consider the function $f(x) = x^2$ for $-\\infty < x < \\infty$.\n",
    "\n",
    "#### Question 2a) #####\n",
    "Find the equation of the tangent line to $f$ at $x = 0$.\n",
    "\n",
    "<!--\n",
    "BEGIN QUESTION\n",
    "name: q2a\n",
    "manual: true\n",
    "-->\n",
    "<!-- EXPORT TO PDF -->"
   ]
  },
  {
   "cell_type": "markdown",
   "metadata": {},
   "source": [
    "$$ \\frac{\\partial f(x)}{\\partial x} = 2x $$\n",
    "$$ \\frac{\\partial f(x)}{\\partial x} = 2 * 0 $$\n",
    "$$ \\frac{\\partial f(x)}{\\partial x} = 0 $$\n",
    "$$ f(x) = 0^2 =0 $$\n",
    "$$ y = mx + c $$\n",
    "$$ 0 = 0*0 + c $$\n",
    "$$ c = 0 $$\n",
    "$$ y = 0 $$\n"
   ]
  },
  {
   "cell_type": "markdown",
   "metadata": {
    "deletable": false,
    "editable": false
   },
   "source": [
    "#### Question 2b) ####\n",
    "Find the equation of the tangent line to $f$ at $x = 8$.\n",
    "\n",
    "<!--\n",
    "BEGIN QUESTION\n",
    "name: q2b\n",
    "manual: true\n",
    "-->\n",
    "<!-- EXPORT TO PDF -->"
   ]
  },
  {
   "cell_type": "markdown",
   "metadata": {},
   "source": [
    "$$ \\frac{\\partial f(x)}{\\partial x} = 2x $$\n",
    "$$ \\frac{\\partial f(x)}{\\partial x} = 2 * 8 $$\n",
    "$$ \\frac{\\partial f(x)}{\\partial x} = 16 $$\n",
    "$$ f(x) = 8^2 = 64 $$\n",
    "$$ y = mx + c $$\n",
    "$$ 64 = 16*8 + c $$\n",
    "$$ c = -64 $$\n",
    "$$ y = 16x - 64 $$"
   ]
  },
  {
   "cell_type": "markdown",
   "metadata": {
    "deletable": false,
    "editable": false
   },
   "source": [
    "#### Question 2c)#### \n",
    "\n",
    "Write code to plot the function $f$, the tangent line at $x=8$, and the tangent line at $x=0$. \n",
    "\n",
    "Set the range of the x-axis to (-15, 15) and the range of the y-axis to (-100, 300) and the figure size to (4,4).\n",
    "\n",
    "Your resulting plot should look like this:\n",
    "\n",
    "<img src=\"derivative.png\" align=\"center\"/>\n",
    "\n",
    "You should use the `plt.plot` function to plot lines. You may find the following functions useful:\n",
    "\n",
    "- [`plt.plot(..)`](https://matplotlib.org/api/_as_gen/matplotlib.pyplot.plot.html)\n",
    "- [`plt.figure(figsize=..)`](https://stackoverflow.com/questions/332289/how-do-you-change-the-size-of-figures-drawn-with-matplotlib)\n",
    "- [`plt.ylim(..)`](https://matplotlib.org/api/_as_gen/matplotlib.pyplot.ylim.html)\n",
    "- [`plt.axhline(..)`](https://matplotlib.org/api/_as_gen/matplotlib.pyplot.hlines.html)\n",
    "\n",
    "<!--\n",
    "BEGIN QUESTION\n",
    "name: q2c\n",
    "manual: true\n",
    "-->\n",
    "<!-- EXPORT TO PDF -->"
   ]
  },
  {
   "cell_type": "code",
   "execution_count": 7,
   "metadata": {},
   "outputs": [
    {
     "data": {
      "image/png": "[encoded data removed]",
      "text/plain": [
       "<Figure size 288x288 with 1 Axes>"
      ]
     },
     "metadata": {
      "needs_background": "light"
     },
     "output_type": "display_data"
    }
   ],
   "source": [
    "values = np.arange(-15,16)\n",
    "\n",
    "def f(x):\n",
    "    return x**2\n",
    "\n",
    "f = f(values)\n",
    "\n",
    "def df(x):\n",
    "    return 16*x-64\n",
    "\n",
    "df = df(values)\n",
    "\n",
    "def plot(f, df):\n",
    "    plt.figure(figsize=(4,4))\n",
    "    plt.plot(values, f)\n",
    "    plt.plot(values, df, color = 'orange')\n",
    "    plt.ylim(-100, 300)\n",
    "    plt.xlim(-15, 15)\n",
    "    plt.axhline(color ='red')\n",
    "    plt.xticks(np.arange(-15, 16, 5))\n",
    "     \n",
    "plot(f, df)"
   ]
  },
  {
   "cell_type": "markdown",
   "metadata": {},
   "source": [
    "## A Maximum Likelihood Estimate ##"
   ]
  },
  {
   "cell_type": "markdown",
   "metadata": {
    "deletable": false,
    "editable": false
   },
   "source": [
    "### Question 3 ###\n",
    "Data scientists use coin tossing as a visual image for sampling at random with replacement from a binary population. \n",
    "\n",
    "#### Question 3a) ####\n",
    "A coin that lands heads with chance 0.8 is tossed six times. What is the chance of the sequence HHHTHT? Assign your answer to the variable `p_HHHTHT`.\n",
    "\n",
    "<!--\n",
    "BEGIN QUESTION\n",
    "name: q3a\n",
    "points: 1\n",
    "-->"
   ]
  },
  {
   "cell_type": "code",
   "execution_count": 8,
   "metadata": {},
   "outputs": [
    {
     "data": {
      "text/plain": [
       "0.016384000000000006"
      ]
     },
     "execution_count": 8,
     "metadata": {},
     "output_type": "execute_result"
    }
   ],
   "source": [
    "p_HHHTHT = 0.8*0.8*0.8*0.2*0.8*0.2\n",
    "p_HHHTHT"
   ]
  },
  {
   "cell_type": "code",
   "execution_count": 9,
   "metadata": {
    "deletable": false,
    "editable": false
   },
   "outputs": [
    {
     "name": "stdout",
     "output_type": "stream",
     "text": [
      "~~~~~~~~~~~~~~~~~~~~~~~~~~~~~~~~~~~~~~~~~~~~~~~~~~~~~~~~~~~~~~~~~~~~~\n",
      "Running tests\n",
      "\n",
      "---------------------------------------------------------------------\n",
      "Test summary\n",
      "    Passed: 1\n",
      "    Failed: 0\n",
      "[ooooooooook] 100.0% passed\n",
      "\n"
     ]
    }
   ],
   "source": [
    "ok.grade(\"q3a\");"
   ]
  },
  {
   "cell_type": "markdown",
   "metadata": {
    "deletable": false,
    "editable": false
   },
   "source": [
    "#### Question 3b) ####\n",
    "I have a coin that lands heads with an unknown probability $p$. I toss it 10 times and get the sequence TTTHTHHTTH.\n",
    "\n",
    "If you toss this coin 10 times, the chance that you get the sequence above is a function of $p$. That function is called the *likelihood* of the sequence TTTHTHHTTH, so we will call it $l$.\n",
    "\n",
    "Plot the graph of $l$ as a function of $p$ for $p \\in [0, 1]$. \n",
    "\n",
    "<!--\n",
    "BEGIN QUESTION\n",
    "name: q3b\n",
    "manual: true\n",
    "-->\n",
    "<!-- EXPORT TO PDF -->"
   ]
  },
  {
   "cell_type": "code",
   "execution_count": 10,
   "metadata": {},
   "outputs": [
    {
     "data": {
      "image/png": "[encoded data removed]",
      "text/plain": [
       "<Figure size 432x288 with 1 Axes>"
      ]
     },
     "metadata": {
      "needs_background": "light"
     },
     "output_type": "display_data"
    }
   ],
   "source": [
    "p = np.arange(0, 1.01, 0.01)\n",
    "q = 1-p\n",
    "likelihood = q*q*q*p*q*p*p*q*q*p\n",
    "plt.plot(p, likelihood, lw=2, color='darkblue') # lw is line width\n",
    "plt.plot([0, 1], [0, 0], lw=1, color='grey')    # horizontal axis\n",
    "plt.xlabel('$p$')\n",
    "plt.ylabel('$l(p)$', rotation=0)\n",
    "plt.title('Likelihood of TTTHTHHTTH');"
   ]
  },
  {
   "cell_type": "markdown",
   "metadata": {
    "deletable": false,
    "editable": false
   },
   "source": [
    "#### Question 3c) ####\n",
    "\n",
    "The value $\\hat{p}$ at which the likelihood function attains its maximum is called the *maximum likelihood estimate* (MLE) of $p$. Among all values of $p$, it is the one that makes the observed data most likely.\n",
    "\n",
    "Please provide the value of $\\hat{p}$ and also a simple interpretation of that value in terms of the data TTTHTHHTTH.\n",
    "\n",
    "<!--\n",
    "BEGIN QUESTION\n",
    "name: q3c\n",
    "manual: true\n",
    "-->\n",
    "<!-- EXPORT TO PDF -->"
   ]
  },
  {
   "cell_type": "markdown",
   "metadata": {},
   "source": [
    "The value of $\\hat{p}$ is 0.4 and it means that the likelihood/probability of getting coin flip results in the order TTTHTHHTTH is highest (0.0012) when the probability of heads is 0.4. It implies that out of 10 tosses the expected number of heads is 4."
   ]
  },
  {
   "cell_type": "markdown",
   "metadata": {
    "deletable": false,
    "editable": false
   },
   "source": [
    "#### Question 3d) ####\n",
    "Explain why the value $\\hat{p}$ at which the function $l$ attains its maximum is the same as the value at which the function $\\log(l)$ attains its maximum. To clarify, $\\log(l)$ is the composition of $\\log$ and $l$: $\\log(l)$ at $p$ is $\\log(l(p))$. Even though it doesn't make a difference for this problem, $\\log$ is now and forevermore the $\\log$ to the base $e$, not to the base 10.\n",
    "\n",
    "It might help to compare $\\log(x_1)$ and $\\log(x_2)$ for $x_1 < x_2$.\n",
    "\n",
    "The observation in this exercise is hugely important in data science because many probabilities are products and the $\\log$ function turns products into sums. It's much simpler to work with a sum than with a product.\n",
    "\n",
    "<!--\n",
    "BEGIN QUESTION\n",
    "name: q3d\n",
    "manual: true\n",
    "-->\n",
    "<!-- EXPORT TO PDF -->"
   ]
  },
  {
   "cell_type": "markdown",
   "metadata": {},
   "source": [
    "If we have 2 values $x_1$ and $x_2$ where $x_1 < x_2$, $\\log(x_1)$ < $\\log(x_2)$ as $f(x) = log(x)$ is a stricting increasing function (mathetimatical fact and evidenced by its graph). Thus, $max(l(\\hat{p}))=max(log(l(\\hat{p})))$ as $log(l)$ increases when $l$ increases and so whatever value produces the highest $l$ also produces the highest $log(l)$."
   ]
  },
  {
   "cell_type": "markdown",
   "metadata": {
    "deletable": false,
    "editable": false
   },
   "source": [
    "#### Question 3e) ####\n",
    "Use Part <b>c</b> and calculus to find $\\hat{p}$. Using Part <b>d</b> makes the calculus much easier. You don't have to check that the value you've found produces a max and not a min – we'll spare you that step.\n",
    "\n",
    "<!--\n",
    "BEGIN QUESTION\n",
    "name: q3e\n",
    "manual: true\n",
    "-->\n",
    "<!-- EXPORT TO PDF -->"
   ]
  },
  {
   "cell_type": "markdown",
   "metadata": {},
   "source": [
    "$$f(\\hat{p}) = log(\\hat{p}^4(1-\\hat{p})^6)$$\n",
    "$$f(\\hat{p}) = log(\\hat{p}^4) + log(1-\\hat{p})^6$$\n",
    "$$f'(\\hat{p}) = \\frac{4\\hat{p}^3}{\\hat{p}^4}+ \\frac{-6(1-\\hat{p})^5}{(1-\\hat{p})^6}$$\n",
    "$$f'(\\hat{p}) = \\frac{4}{\\hat{p}} - \\frac{6}{1-\\hat{p}}$$\n",
    "$$0 = 4-10\\hat{p}$$\n",
    "$$\\hat{p}=0.4$$"
   ]
  },
  {
   "cell_type": "markdown",
   "metadata": {},
   "source": [
    "## 3-D Plots ##"
   ]
  },
  {
   "cell_type": "markdown",
   "metadata": {
    "deletable": false,
    "editable": false
   },
   "source": [
    "### Question 4 ##\n",
    "\n",
    "Data science is a rapidly expanding field and no degree program can hope to teach you everything that will be helpful to you as a data scientist. So it's important that you become familiar with looking up documentation and learning how to read it. \n",
    "\n",
    "Below is a section of code that plots a three-dimensional \"wireframe\" plot. You'll see what that means when you draw it. Replace each `# Your answer here` with a description of what the line above does, what the arguments being passed in are, and how the arguments are used in the function. For example,\n",
    "\n",
    "```\n",
    "np.arange(2, 5, 0.2)\n",
    "# This returns an array of numbers from 2 to 5 with an interval size of 0.2\n",
    "```\n",
    "\n",
    "**Hint:** The `Shift` + `Tab` tip from earlier in the notebook may help here. Remember that objects must be defined in order for the documentation shortcut to work; for example, all of the documentation will show for method calls from `np` since we've already executed `import numpy as np`. However, since `z` is not yet defined in the kernel, `z.reshape()` will not show documentation until you run the line `z = np.cos(squared)`.\n",
    "\n",
    "<!--\n",
    "    BEGIN QUESTION\n",
    "    name: q4\n",
    "    manual: true\n",
    "-->\n",
    "<!-- EXPORT TO PDF -->"
   ]
  },
  {
   "cell_type": "code",
   "execution_count": 11,
   "metadata": {
    "scrolled": true
   },
   "outputs": [
    {
     "data": {
      "image/png": "[encoded data removed]",
      "text/plain": [
       "<Figure size 432x432 with 1 Axes>"
      ]
     },
     "metadata": {
      "needs_background": "light"
     },
     "output_type": "display_data"
    }
   ],
   "source": [
    "from mpl_toolkits.mplot3d import axes3d\n",
    "\n",
    "u = np.linspace(1.5*np.pi, -1.5*np.pi, 100)\n",
    "# Returns 100 evenly spaced numbers in an array over the specified interval 1.5*pi to -1.5*pi.The arguments being passed are the beginning and end of the interval, and the amount of numbers to output.\n",
    "[x,y] = np.meshgrid(u, u)\n",
    "# Return coordinate matrices from coordinate vectors. The arguments u are the coordinate vectors and the ouput is derived from them using matrix indexing on ouput and evaluating functions on a grid.\n",
    "squared = np.sqrt(x.flatten()**2 + y.flatten()**2)\n",
    "z = np.cos(squared)\n",
    "# Returns the cosine of the value squared, which is the result of x and y being flattened, squared, added and square rooted.\n",
    "z = z.reshape(x.shape)\n",
    "# Returns an array with the same data but a new shape. To finf the new shape, it takes in the argument x.shape to reshape the dimensions of array z according to the dimentions of array x.\n",
    "fig = plt.figure(figsize=(6, 6))\n",
    "ax = fig.add_subplot(111, projection='3d')\n",
    "# Adds an `~.axes.Axes` to the figure as part of a subplot arrangement. The first argument describes the position of the subplot.The integers of the number denote number of rows, number of columns, and index of subplot respectively. The second argument is the name of the custom projection. In this case, it is three dimentional. The arguments are used to determine the new position and projection of the subplot.\n",
    "ax.plot_wireframe(x, y, z, rstride=5, cstride=5, lw=2)\n",
    "# Plots a 3D wireframe of the data in the arguments x, y, z with a downsampling stride of 5 in each direction and a line width of 2.\n",
    "ax.view_init(elev=60, azim=25)\n",
    "# Sets the elevation angle(z) to 60 degrees and azimuth angle (x,y) to 25 degrees.\n",
    "plt.savefig(\"figure1.png\")\n",
    "# Saves the current figure to the file indicated in the argument. In this case, it is saving it to 'figure1.png' in the same directory as that of the code."
   ]
  },
  {
   "cell_type": "markdown",
   "metadata": {},
   "source": [
    "## Probabilities and Proportions ##"
   ]
  },
  {
   "cell_type": "markdown",
   "metadata": {
    "deletable": false,
    "editable": false
   },
   "source": [
    "### Question 5 ###\n",
    "\n",
    "Much of data analysis involves interpreting proportions – lots and lots of related proportions. So let's recall the basics. It might help to start by reviewing [the main rules](https://www.inferentialthinking.com/chapters/09/5/Finding_Probabilities.html) from Data 8, with particular attention to what's being multiplied in the multiplication rule.\n",
    "\n",
    "<!--\n",
    "    BEGIN QUESTION\n",
    "    name: q5a\n",
    "    manual: true\n",
    "-->\n",
    "\n",
    "#### Question 5a) ####\n",
    "The Pew Research Foundation publishes the results of numerous surveys, one of which is about the [trust that Americans have](https://www.pewresearch.org/fact-tank/2019/03/22/public-confidence-in-scientists-has-remained-stable-for-decades/) in groups such as the military, scientists, and elected officials to act in the public interest. A table in the article summarizes the results.\n",
    "\n",
    "Pick one of the options (i) and (ii) to answer the question below; if you pick (i), fill in the blank with the percent. Then, explain your choice.\n",
    "\n",
    "The percent of surveyed U.S. adults who had a great deal of confidence in both scientists and religious leaders\n",
    "\n",
    "(i) is equal to ______________________.\n",
    "\n",
    "(ii) cannot be found with the information in the article.\n",
    "<!-- EXPORT TO PDF -->"
   ]
  },
  {
   "cell_type": "markdown",
   "metadata": {},
   "source": [
    "(ii) We have data on the percent of adults who had a great deal of confidence in scientists and those that had a great deal of confidence in religious leaders. Because this information is taken from the same population, it could be that some people overlap in both categories and others do not. Because we do not know the size of this intersection/overlap, we cannot find the exact percentage. We can only say that it is at least 0% (no one with a great deal of faith in religious leaders had a great deal of faith in scientists) and at most 9% (everyone with a great deal of faith in religious leaders had a great deal of faith in scientists)."
   ]
  },
  {
   "cell_type": "markdown",
   "metadata": {
    "deletable": false,
    "editable": false
   },
   "source": [
    "#### Question 5b) ####\n",
    "In a famous (or infamous) survey, members of the Harvard medical school were asked to consider a scenario in which \"a test to detect a disease whose prevalence is 1/1,000 has a false positive rate of 5 percent\". The terminology, the specific question asked in the survey, and the answer, are discussed in detail in a Stat 88 textbook [section](http://stat88.org/textbook/notebooks/Chapter_02/04_Use_and_Interpretation.html#Harvard-Medical-School-Survey) that you are strongly encouraged to read. As Stat 88 is a Data 8 connector course, the section is another look at the same ideas as in the corresponding [Data 8 textbook section](https://www.inferentialthinking.com/chapters/18/2/Making_Decisions.html).\n",
    "\n",
    "The corresponding tree diagram is copied below for your reference.\n",
    "\n",
    "<img src=\"tree_disease_harvard.png\">\n",
    "\n",
    "The survey did not provide the true positive rate. The respondents and Stat 88 were allowed to assume that the true positive rate is 1, but we will not do so here. **Let the true positive rate be some unknown proportion $p$.**\n",
    "\n",
    "Suppose a person is picked at random from the population. Let $N$ be the event that the person doesn't have the disease and let $T_N$ be the event that the person's test result is negative. \n",
    "\n",
    "Fill in Blanks 1 and 2 with options chosen from (1)-(9).\n",
    "\n",
    "The proportion $P(N \\mid T_N)$ is the number of people who $\\underline{~~~~~~1~~~~~~}$ relative to the total number of people who $\\underline{~~~~~~2~~~~~~}$.\n",
    "\n",
    "(1) are in the population\n",
    "\n",
    "(2) have the disease\n",
    "\n",
    "(3) don't have the disease\n",
    "\n",
    "(4) test positive\n",
    "\n",
    "(5) test negative\n",
    "\n",
    "(6) have the disease and test positive\n",
    "\n",
    "(7) have the disease and test negative\n",
    "\n",
    "(8) don't have the disease and test positive\n",
    "\n",
    "(9) don't have the disease and test negative\n",
    "\n",
    "Assign the variable `q5bi` to your answer to the first blank and `q5bii` to your answer to the second blank.\n",
    "\n",
    "<!--\n",
    "    BEGIN QUESTION\n",
    "    name: q5b\n",
    "    points: 1\n",
    "-->"
   ]
  },
  {
   "cell_type": "markdown",
   "metadata": {},
   "source": []
  },
  {
   "cell_type": "code",
   "execution_count": 12,
   "metadata": {},
   "outputs": [
    {
     "data": {
      "text/plain": [
       "(9, 5)"
      ]
     },
     "execution_count": 12,
     "metadata": {},
     "output_type": "execute_result"
    }
   ],
   "source": [
    "q5bi = 9\n",
    "q5bii = 5\n",
    "q5bi, q5bii"
   ]
  },
  {
   "cell_type": "code",
   "execution_count": 13,
   "metadata": {
    "deletable": false,
    "editable": false
   },
   "outputs": [
    {
     "name": "stdout",
     "output_type": "stream",
     "text": [
      "~~~~~~~~~~~~~~~~~~~~~~~~~~~~~~~~~~~~~~~~~~~~~~~~~~~~~~~~~~~~~~~~~~~~~\n",
      "Running tests\n",
      "\n",
      "---------------------------------------------------------------------\n",
      "Test summary\n",
      "    Passed: 2\n",
      "    Failed: 0\n",
      "[ooooooooook] 100.0% passed\n",
      "\n"
     ]
    }
   ],
   "source": [
    "ok.grade(\"q5b\");"
   ]
  },
  {
   "cell_type": "markdown",
   "metadata": {
    "deletable": false,
    "editable": false
   },
   "source": [
    "#### Question 5c) ####\n",
    "(This is a continuation of the previous part.) Define a function `no_disease_given_negative` that takes $p$ as its argument and returns $P(N \\mid T_N)$.\n",
    "\n",
    "<!--\n",
    "    BEGIN QUESTION\n",
    "    name: q5c\n",
    "    points: 2\n",
    "-->"
   ]
  },
  {
   "cell_type": "code",
   "execution_count": 14,
   "metadata": {},
   "outputs": [],
   "source": [
    "def no_disease_given_negative(p):\n",
    "    return (0.999*0.95)/((0.999*0.95)+(0.001*(1-p)))"
   ]
  },
  {
   "cell_type": "code",
   "execution_count": 15,
   "metadata": {
    "deletable": false,
    "editable": false
   },
   "outputs": [
    {
     "name": "stdout",
     "output_type": "stream",
     "text": [
      "~~~~~~~~~~~~~~~~~~~~~~~~~~~~~~~~~~~~~~~~~~~~~~~~~~~~~~~~~~~~~~~~~~~~~\n",
      "Running tests\n",
      "\n",
      "---------------------------------------------------------------------\n",
      "Test summary\n",
      "    Passed: 2\n",
      "    Failed: 0\n",
      "[ooooooooook] 100.0% passed\n",
      "\n"
     ]
    }
   ],
   "source": [
    "ok.grade(\"q5c\");"
   ]
  },
  {
   "cell_type": "markdown",
   "metadata": {
    "deletable": false,
    "editable": false
   },
   "source": [
    "#### Question 5d) ####\n",
    "(This part is a continuation of the previous two.) Pick all of the options (i)-(iv) that are true for all values of $p$. Explain by algebraic or probailistic reasoning; you are welcome to use your function `no_disease_given_negative` to try a few cases numerically. Your explanation should include the reasons why you *didn't* choose some options.\n",
    "\n",
    "$P(N \\mid T_N)$ is\n",
    "\n",
    "(i) equal to $0.95$.\n",
    "\n",
    "(ii) equal to $0.999 \\times 0.95$.\n",
    "\n",
    "(iii) greater than $0.999 \\times 0.95$.\n",
    "\n",
    "(iv) greater than $0.95$.\n",
    "\n",
    "<!--\n",
    "    BEGIN QUESTION\n",
    "    name: q5d\n",
    "    manual: true\n",
    "-->\n",
    "<!-- EXPORT TO PDF -->"
   ]
  },
  {
   "cell_type": "markdown",
   "metadata": {},
   "source": [
    "(i) and (ii) are false because using different values of p gives different values of $P(N \\mid T_N)$ and so it isn't possible for it to equal a specific number.\n",
    "(iii) and (iv) are both correct. For (iii) $P(N \\mid T_N)$ = $P(N and T_N)$ / $P(T_N)$ and probabilities are always lower than 1 so the division on the right hand side equates to a larger value than the numerator $P(N and T_N)$, which is $0.999 \\times 0.95$, making any value of $P(N \\mid T_N)$ greater than  $0.999 \\times 0.95$. Because  $0.999 \\times 0.95 = 0.949$, which is less than 0.95, we can say that if (iii) is true then (iv) must also be true. Also, inputting values into the function for p gives us results of around 0.999, so the output is never less than $0.999 \\times 0.95$ and thus 0.95."
   ]
  },
  {
   "cell_type": "code",
   "execution_count": 16,
   "metadata": {},
   "outputs": [
    {
     "data": {
      "text/plain": [
       "0.998947423819799"
      ]
     },
     "execution_count": 16,
     "metadata": {},
     "output_type": "execute_result"
    }
   ],
   "source": [
    "0.94905\n",
    "no_disease_given_negative(0.0)"
   ]
  },
  {
   "cell_type": "markdown",
   "metadata": {
    "deletable": false,
    "editable": false
   },
   "source": [
    "#### Question 5e) ####\n",
    "Suzuki is one of most commonly owned makes of cars in our county (Alameda). A car heading from Berkeley to San Francisco is pulled over on the freeway for speeding. Suppose I tell you that the car is either a Suzuki or a Lamborghini, and you have to guess which of the two is more likely. \n",
    "\n",
    "What would you guess, and why? Make some reasonable assumptions and explain them (data scientists often have to do this), justify your answer, and say how it's connected to the previous parts.\n",
    "\n",
    "<!--\n",
    "    BEGIN QUESTION\n",
    "    name: q5e\n",
    "    manual: true\n",
    "-->\n",
    "<!-- EXPORT TO PDF -->"
   ]
  },
  {
   "cell_type": "markdown",
   "metadata": {},
   "source": [
    "If we use Baye's Rule, similar to previous parts, to find $P(Suzuki \\mid Pulled Over)$ and $P(Lamborghini \\mid Pulled Over)$ then we solve the equations $P(Suzuki and Pulled Over)/P(Pulled Over)$ and $P(Lamborghini and Pulled Over)/P(Pulled Over)$ then we can see that $P(Suzuki \\mid Pulled Over)$ is higher because the denominators for both equations are equal and $P(Suzuki and Pulled Over)$ > $P(Lamborghini and Pulled Over)$ as Suzukis are more common than Lamborghinis."
   ]
  },
  {
   "cell_type": "markdown",
   "metadata": {},
   "source": [
    "## Distributions ##"
   ]
  },
  {
   "cell_type": "markdown",
   "metadata": {},
   "source": [
    "### Question 6 ###\n",
    "Visualizing distributions, both categorical and numerical, helps us understand variability. In Data 8 you visualized numerical distributions by drawing [histograms](https://www.inferentialthinking.com/chapters/07/2/Visualizing_Numerical_Distributions.html#A-Histogram), which look like bar charts but represent proportions by the *areas* of the bars instead of the heights or lengths. In this exercise you will use the `hist` function in `matplotlib` instead of the corresponding `Table` method to draw histograms.\n",
    "\n",
    "To start off, suppose we want to plot the probability distribution of the number of spots on a single roll of a die. That should be a flat histogram since the chance of each of the values 1 through 6 is 1/6. Here is a first attempt at drawing the histogram."
   ]
  },
  {
   "cell_type": "code",
   "execution_count": 17,
   "metadata": {},
   "outputs": [
    {
     "data": {
      "text/plain": [
       "(array([1., 0., 1., 0., 1., 0., 1., 0., 1., 1.]),\n",
       " array([1. , 1.5, 2. , 2.5, 3. , 3.5, 4. , 4.5, 5. , 5.5, 6. ]),\n",
       " <a list of 10 Patch objects>)"
      ]
     },
     "execution_count": 17,
     "metadata": {},
     "output_type": "execute_result"
    },
    {
     "data": {
      "image/png": "[encoded data removed]",
      "text/plain": [
       "<Figure size 432x288 with 1 Axes>"
      ]
     },
     "metadata": {
      "needs_background": "light"
     },
     "output_type": "display_data"
    }
   ],
   "source": [
    "faces = range(1, 7)\n",
    "plt.hist(faces)"
   ]
  },
  {
   "cell_type": "markdown",
   "metadata": {},
   "source": [
    "This default plot is not helpful. We have to choose some arguments to get a visualization that we can interpret. \n",
    "\n",
    "Note that the second printed line shows the left ends of the default bins, as well as the right end of the last bin. The first line shows the counts in the bins. If you don't want the printed lines you can add a semi-colon at the end of the call to `plt.hist`, but we'll keep the lines for now.\n",
    "\n",
    "Let's redraw the histogram with bins of unit length centered at the possible values. By the end of the exercise you'll see a reason for centering. Notice that the argument for specifying bins is the same as the one for the `Table` method `hist`."
   ]
  },
  {
   "cell_type": "code",
   "execution_count": 18,
   "metadata": {},
   "outputs": [
    {
     "data": {
      "text/plain": [
       "(array([1., 1., 1., 1., 1., 1.]),\n",
       " array([0.5, 1.5, 2.5, 3.5, 4.5, 5.5, 6.5]),\n",
       " <a list of 6 Patch objects>)"
      ]
     },
     "execution_count": 18,
     "metadata": {},
     "output_type": "execute_result"
    },
    {
     "data": {
      "image/png": "[encoded data removed]",
      "text/plain": [
       "<Figure size 432x288 with 1 Axes>"
      ]
     },
     "metadata": {
      "needs_background": "light"
     },
     "output_type": "display_data"
    }
   ],
   "source": [
    "unit_bins = np.arange(0.5, 6.6)\n",
    "plt.hist(faces, bins = unit_bins)"
   ]
  },
  {
   "cell_type": "markdown",
   "metadata": {},
   "source": [
    "We need to see the edges of the bars! Let's specify the edge color `ec` to be white. [Here](https://matplotlib.org/3.1.0/gallery/color/named_colors.html) are all the colors you could use, but do try to drag yourself away from the poetic names."
   ]
  },
  {
   "cell_type": "code",
   "execution_count": 19,
   "metadata": {},
   "outputs": [
    {
     "data": {
      "text/plain": [
       "(array([1., 1., 1., 1., 1., 1.]),\n",
       " array([0.5, 1.5, 2.5, 3.5, 4.5, 5.5, 6.5]),\n",
       " <a list of 6 Patch objects>)"
      ]
     },
     "execution_count": 19,
     "metadata": {},
     "output_type": "execute_result"
    },
    {
     "data": {
      "image/png": "[encoded data removed]",
      "text/plain": [
       "<Figure size 432x288 with 1 Axes>"
      ]
     },
     "metadata": {
      "needs_background": "light"
     },
     "output_type": "display_data"
    }
   ],
   "source": [
    "plt.hist(faces, bins = unit_bins, ec='white')"
   ]
  },
  {
   "cell_type": "markdown",
   "metadata": {},
   "source": [
    "That's much better, but look at the vertical axis. It is not drawn to the [density scale](https://www.inferentialthinking.com/chapters/07/2/Visualizing_Numerical_Distributions.html#The-Histogram:-General-Principles-and-Calculation) defined in Data 8. We want a histogram of a probability distribution, so the total area should be 1. We just have to ask for that."
   ]
  },
  {
   "cell_type": "code",
   "execution_count": 20,
   "metadata": {},
   "outputs": [
    {
     "data": {
      "text/plain": [
       "(array([0.16666667, 0.16666667, 0.16666667, 0.16666667, 0.16666667,\n",
       "        0.16666667]),\n",
       " array([0.5, 1.5, 2.5, 3.5, 4.5, 5.5, 6.5]),\n",
       " <a list of 6 Patch objects>)"
      ]
     },
     "execution_count": 20,
     "metadata": {},
     "output_type": "execute_result"
    },
    {
     "data": {
      "image/png": "[encoded data removed]",
      "text/plain": [
       "<Figure size 432x288 with 1 Axes>"
      ]
     },
     "metadata": {
      "needs_background": "light"
     },
     "output_type": "display_data"
    }
   ],
   "source": [
    "plt.hist(faces, bins = unit_bins, ec='white', density=True)"
   ]
  },
  {
   "cell_type": "markdown",
   "metadata": {},
   "source": [
    "That's the probability histogram of the number of spots on one roll of a die. The proportion is $1/6$ in each of the bins."
   ]
  },
  {
   "cell_type": "markdown",
   "metadata": {
    "deletable": false,
    "editable": false
   },
   "source": [
    "#### Question 6a) ####\n",
    "\n",
    "Define a function `integer_distribution` that takes an array of integers and draws the histogram of the distribution using unit bins centered at the integers and white edges for the bars. The histogram should be drawn to the density scale. The left-most bar should be centered at the smallest integer in the array, and the right-most bar at the largest.\n",
    "\n",
    "Your function does not have to check that the input is an array consisting only of integers. The display does not need to include the printed proportions and bins.\n",
    "\n",
    "If you have trouble defining the function, go back and carefully read all the lines of code that resulted in the probability histogram of the number of spots on one roll of a die. Pay special attention to the bins. \n",
    "\n",
    "<!--\n",
    "    BEGIN QUESTION\n",
    "    name: q6a\n",
    "    manual: true\n",
    "-->\n",
    "<!-- EXPORT TO PDF -->"
   ]
  },
  {
   "cell_type": "code",
   "execution_count": 21,
   "metadata": {},
   "outputs": [
    {
     "data": {
      "text/plain": [
       "(array([0.16666667, 0.16666667, 0.16666667, 0.16666667, 0.16666667,\n",
       "        0.16666667]),\n",
       " array([0.5, 1.5, 2.5, 3.5, 4.5, 5.5, 6.5]),\n",
       " <a list of 6 Patch objects>)"
      ]
     },
     "execution_count": 21,
     "metadata": {},
     "output_type": "execute_result"
    },
    {
     "data": {
      "image/png": "[encoded data removed]",
      "text/plain": [
       "<Figure size 432x288 with 1 Axes>"
      ]
     },
     "metadata": {
      "needs_background": "light"
     },
     "output_type": "display_data"
    }
   ],
   "source": [
    "def integer_distribution(x):\n",
    "    return plt.hist(x, bins = np.arange(min(x)-0.5, max(x)+0.6), ec='white', density=True)\n",
    "integer_distribution(faces)"
   ]
  },
  {
   "cell_type": "markdown",
   "metadata": {
    "deletable": false,
    "editable": false
   },
   "source": [
    "#### Question 6b) ####\n",
    "In Data 8 you studied the Supreme Court case of [Swain versus the State of Alabama](https://www.inferentialthinking.com/chapters/11/1/Assessing_Models.html), where a question before the Court was whether a jury panel of size 100 had been selected at random from a population in which 26% of the people were black. That was the percent of black people in the population that was eligible to serve on the panel.\n",
    "\n",
    "You can use `np.random.multinomial` to simulate drawing at random with replacement from a categorical distribution. The arguments are the sample size `n` and an array `pvals` of the proportions in all the categories. The function simulates `n` independent random draws from the distribution and returns the observed counts in all the categories. Read the documentation to see how this is described formally; we will use the formal terminology and notation in future assignments after we have discussed them in class.\n",
    "\n",
    "You will see that the function also takes a third argument `size`, which for our purposes will be an integer that specifies the number of times to run the entire simulation. All the runs are independent of each other. \n",
    "\n",
    "Write one line of code that uses `np.random.multinomial` to run 10 independent simulations of drawing 100 times at random with replacement from a population in which 26% of the people are black. The output should be an array containing the counts in the black category in the 10 simulations. It will help to recall how to slice `NumPy` arrays. Assign your answer to the variable `sample`.\n",
    "\n",
    "<!--\n",
    "    BEGIN QUESTION\n",
    "    name: q6b\n",
    "    points: 2\n",
    "-->"
   ]
  },
  {
   "cell_type": "code",
   "execution_count": 22,
   "metadata": {},
   "outputs": [
    {
     "data": {
      "text/plain": [
       "array([24, 21, 26, 24, 30, 26, 28, 26, 28, 28])"
      ]
     },
     "execution_count": 22,
     "metadata": {},
     "output_type": "execute_result"
    }
   ],
   "source": [
    "sample = np.random.multinomial(100, [0.26, 0.74], 10)[:,0]\n",
    "sample"
   ]
  },
  {
   "cell_type": "code",
   "execution_count": 23,
   "metadata": {
    "deletable": false,
    "editable": false
   },
   "outputs": [
    {
     "name": "stdout",
     "output_type": "stream",
     "text": [
      "~~~~~~~~~~~~~~~~~~~~~~~~~~~~~~~~~~~~~~~~~~~~~~~~~~~~~~~~~~~~~~~~~~~~~\n",
      "Running tests\n",
      "\n",
      "---------------------------------------------------------------------\n",
      "Test summary\n",
      "    Passed: 3\n",
      "    Failed: 0\n",
      "[ooooooooook] 100.0% passed\n",
      "\n"
     ]
    }
   ],
   "source": [
    "ok.grade(\"q6b\");"
   ]
  },
  {
   "cell_type": "markdown",
   "metadata": {
    "deletable": false,
    "editable": false
   },
   "source": [
    "#### Question 6c) ####\n",
    "\n",
    "Replace the \"...\" in the code cell below with a Python expression so that the output of the cell is an empirical histogram of 500,000 simulated counts of black people in 100 draws made at random with replacement from the population eligible for Swain's jury panel.  \n",
    "\n",
    "After you have drawn the histogram, you might want to take a moment to recall the conclusion reached in Data 8 based on the data that Swain's panel had 8 black people in it.\n",
    "\n",
    "<!--\n",
    "    BEGIN QUESTION\n",
    "    name: q6c\n",
    "    manual: true\n",
    "-->\n",
    "<!-- EXPORT TO PDF -->"
   ]
  },
  {
   "cell_type": "code",
   "execution_count": 24,
   "metadata": {
    "scrolled": true
   },
   "outputs": [
    {
     "data": {
      "text/plain": [
       "(array([6.0000e-06, 2.0000e-05, 3.2000e-05, 1.4800e-04, 2.9600e-04,\n",
       "        7.6200e-04, 1.5560e-03, 3.3040e-03, 5.9000e-03, 1.0582e-02,\n",
       "        1.7296e-02, 2.5616e-02, 3.7034e-02, 4.9318e-02, 6.3294e-02,\n",
       "        7.4032e-02, 8.4008e-02, 8.9228e-02, 9.0560e-02, 8.7158e-02,\n",
       "        8.0020e-02, 6.9700e-02, 5.7922e-02, 4.6438e-02, 3.4392e-02,\n",
       "        2.5168e-02, 1.7224e-02, 1.1664e-02, 7.1680e-03, 4.5020e-03,\n",
       "        2.5740e-03, 1.5000e-03, 8.3200e-04, 4.0200e-04, 1.9000e-04,\n",
       "        8.2000e-05, 4.8000e-05, 1.6000e-05, 6.0000e-06, 2.0000e-06]),\n",
       " array([ 7.5,  8.5,  9.5, 10.5, 11.5, 12.5, 13.5, 14.5, 15.5, 16.5, 17.5,\n",
       "        18.5, 19.5, 20.5, 21.5, 22.5, 23.5, 24.5, 25.5, 26.5, 27.5, 28.5,\n",
       "        29.5, 30.5, 31.5, 32.5, 33.5, 34.5, 35.5, 36.5, 37.5, 38.5, 39.5,\n",
       "        40.5, 41.5, 42.5, 43.5, 44.5, 45.5, 46.5, 47.5]),\n",
       " <a list of 40 Patch objects>)"
      ]
     },
     "execution_count": 24,
     "metadata": {},
     "output_type": "execute_result"
    },
    {
     "data": {
      "image/png": "[encoded data removed]",
      "text/plain": [
       "<Figure size 432x288 with 1 Axes>"
      ]
     },
     "metadata": {
      "needs_background": "light"
     },
     "output_type": "display_data"
    }
   ],
   "source": [
    "simulated_counts = np.random.multinomial(100, [0.26, 0.64], 500000)[:,0]\n",
    "integer_distribution(simulated_counts)"
   ]
  },
  {
   "cell_type": "markdown",
   "metadata": {
    "deletable": false,
    "editable": false
   },
   "source": [
    "#### Question 6d) ####\n",
    "As you know, the count of black people in a sample of 100 people drawn at random from the eligible population is expected to be 26. Just by looking at the histogram in Part **c**, and **no other calculation**, pick the correct option and explain your choice. You might want to refer to the [Data 8 textbook](https://www.inferentialthinking.com/chapters/14/3/SD_and_the_Normal_Curve.html) again.\n",
    "\n",
    "The SD of the distribution of the number of black people in a random sample of 100 people drawn from the eligible population is closest to\n",
    "\n",
    "(i) 1.4\n",
    "\n",
    "(ii) 4.4\n",
    "\n",
    "(iii) 7.4\n",
    "\n",
    "(iv) 10.4\n",
    "\n",
    "<!--\n",
    "    BEGIN QUESTION\n",
    "    name: q6d\n",
    "    manual: true\n",
    "-->\n",
    "<!-- EXPORT TO PDF -->"
   ]
  },
  {
   "cell_type": "markdown",
   "metadata": {},
   "source": [
    "(ii) 4.4"
   ]
  },
  {
   "cell_type": "markdown",
   "metadata": {
    "deletable": false,
    "editable": false
   },
   "source": [
    "#### Question 6e) ####\n",
    "The *normal curve with mean $\\mu$ and SD $\\sigma$* is defined by\n",
    "\n",
    "$$\n",
    "f(x) ~ = ~ \\frac{1}{\\sqrt{2\\pi}\\sigma} e^{-\\frac{1}{2}\\big{(}\\frac{x-\\mu}{\\sigma}\\big{)}^2}, ~~~ -\\infty < x < \\infty\n",
    "$$\n",
    "\n",
    "Redraw your histogram from Part **c** and overlay the normal curve with $\\mu = 26$ and $\\sigma$ equal to the choice you made in Part **d**. You just have to call `plt.plot` after `integer_distribution`. Use `np.e` for $e$. For the curve, use 2 as the line width, and any color that is easy to see over the blue histogram. It's fine to just let Python use its default color.\n",
    "\n",
    "Now you can see why centering the histogram bars over the integers was a good idea. The normal curve peaks at 26, which is the center of the corresponding bar.\n",
    "\n",
    "<!--\n",
    "    BEGIN QUESTION\n",
    "    name: q6e\n",
    "    manual: true\n",
    "-->\n",
    "<!-- EXPORT TO PDF -->"
   ]
  },
  {
   "cell_type": "code",
   "execution_count": 25,
   "metadata": {
    "scrolled": false
   },
   "outputs": [
    {
     "data": {
      "text/plain": [
       "[<matplotlib.lines.Line2D at 0x7ff6233ee0b8>]"
      ]
     },
     "execution_count": 25,
     "metadata": {},
     "output_type": "execute_result"
    },
    {
     "data": {
      "image/png": "[encoded data removed]",
      "text/plain": [
       "<Figure size 432x288 with 1 Axes>"
      ]
     },
     "metadata": {
      "needs_background": "light"
     },
     "output_type": "display_data"
    }
   ],
   "source": [
    "mu = 26\n",
    "sigma = 4.4\n",
    "x = np.linspace(0, 50, 200)\n",
    "f_x = ((np.e)**((-1/2)*(((x-mu)/sigma)**2)))/(((2*np.pi)**0.5)*sigma)\n",
    "integer_distribution(simulated_counts)\n",
    "plt.plot(x, f_x)"
   ]
  },
  {
   "cell_type": "markdown",
   "metadata": {
    "deletable": false,
    "editable": false
   },
   "source": [
    "### Question 7 ###\n",
    "Please fill out the Data 100 Spring 2020 Welcome Survey: https://forms.gle/r2KxH8Jog3rujRip9\n",
    "\n",
    "At the end of the survey, there will be a 5-digit integer code displayed. Assign `q7_survey` to that integer below.\n",
    "\n",
    "<!--\n",
    "    BEGIN QUESTION\n",
    "    name: q7\n",
    "    points: 1\n",
    "-->"
   ]
  },
  {
   "cell_type": "code",
   "execution_count": 26,
   "metadata": {},
   "outputs": [],
   "source": [
    "q7_survey = 19846"
   ]
  },
  {
   "cell_type": "code",
   "execution_count": 27,
   "metadata": {
    "deletable": false,
    "editable": false
   },
   "outputs": [
    {
     "name": "stdout",
     "output_type": "stream",
     "text": [
      "~~~~~~~~~~~~~~~~~~~~~~~~~~~~~~~~~~~~~~~~~~~~~~~~~~~~~~~~~~~~~~~~~~~~~\n",
      "Running tests\n",
      "\n",
      "---------------------------------------------------------------------\n",
      "Test summary\n",
      "    Passed: 1\n",
      "    Failed: 0\n",
      "[ooooooooook] 100.0% passed\n",
      "\n"
     ]
    }
   ],
   "source": [
    "ok.grade(\"q7\");"
   ]
  },
  {
   "cell_type": "markdown",
   "metadata": {
    "deletable": false,
    "editable": false
   },
   "source": [
    "# Submit\n",
    "Make sure you have run all cells in your notebook in order before running the cell below, so that all images/graphs appear in the output.\n",
    "**Please save before submitting!**\n",
    "\n",
    "<!-- EXPECT 19 EXPORTED QUESTIONS -->"
   ]
  },
  {
   "cell_type": "code",
   "execution_count": 28,
   "metadata": {
    "deletable": false,
    "editable": false
   },
   "outputs": [
    {
     "name": "stdout",
     "output_type": "stream",
     "text": [
      "Generating PDF...\n",
      "Saved hw1.pdf\n"
     ]
    },
    {
     "data": {
      "application/javascript": [
       "IPython.notebook.save_checkpoint();"
      ],
      "text/plain": [
       "<IPython.core.display.Javascript object>"
      ]
     },
     "metadata": {},
     "output_type": "display_data"
    },
    {
     "data": {
      "application/javascript": [
       "IPython.notebook.save_notebook();"
      ],
      "text/plain": [
       "<IPython.core.display.Javascript object>"
      ]
     },
     "metadata": {},
     "output_type": "display_data"
    },
    {
     "name": "stdout",
     "output_type": "stream",
     "text": [
      "Saving notebook... Saved 'hw1.ipynb'.\n",
      "Submit... 100% complete\n",
      "Submission successful for user: ayelachughtai@berkeley.edu\n",
      "URL: https://okpy.org/cal/data100/sp20/hw1/submissions/jYj0Ay\n",
      "\n"
     ]
    }
   ],
   "source": [
    "# Save your notebook first, then run this cell to submit.\n",
    "import jassign.to_pdf\n",
    "jassign.to_pdf.generate_pdf('hw1.ipynb', 'hw1.pdf')\n",
    "ok.submit()"
   ]
  },
  {
   "cell_type": "code",
   "execution_count": null,
   "metadata": {},
   "outputs": [],
   "source": []
  }
 ],
 "metadata": {
  "kernelspec": {
   "display_name": "Python 3",
   "language": "python",
   "name": "python3"
  },
  "language_info": {
   "codemirror_mode": {
    "name": "ipython",
    "version": 3
   },
   "file_extension": ".py",
   "mimetype": "text/x-python",
   "name": "python",
   "nbconvert_exporter": "python",
   "pygments_lexer": "ipython3",
   "version": "3.7.6"
  }
 },
 "nbformat": 4,
 "nbformat_minor": 2
}
