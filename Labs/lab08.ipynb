{
 "cells": [
  {
   "cell_type": "code",
   "execution_count": 1,
   "metadata": {
    "deletable": false,
    "editable": false
   },
   "outputs": [
    {
     "name": "stdout",
     "output_type": "stream",
     "text": [
      "=====================================================================\n",
      "Assignment: lab08\n",
      "OK, version v1.13.11\n",
      "=====================================================================\n",
      "\n"
     ]
    }
   ],
   "source": [
    "# Initialize OK\n",
    "from client.api.notebook import Notebook\n",
    "ok = Notebook('lab08.ok')"
   ]
  },
  {
   "cell_type": "markdown",
   "metadata": {},
   "source": [
    "# Lab 8: Regularization"
   ]
  },
  {
   "cell_type": "markdown",
   "metadata": {},
   "source": [
    "In this lab, you will go through the practice of using regularization to reduce overfitting. \n",
    "\n",
    "### Due Date ###\n",
    "The assignment is due on **Monday, April 13th at 11:59pm PST**.\n",
    "\n",
    "### Collaboration Policy\n",
    "Data science is a collaborative activity. While you may talk with others about this assignment, we ask that you **write your solutions individually**. If you discuss the assignment with others, please **include their names** in the cell below."
   ]
  },
  {
   "cell_type": "markdown",
   "metadata": {},
   "source": [
    "**Collaborators:** *list names here*"
   ]
  },
  {
   "cell_type": "code",
   "execution_count": 2,
   "metadata": {},
   "outputs": [],
   "source": [
    "# Run this cell to set up your notebook\n",
    "import seaborn as sns\n",
    "import csv\n",
    "import numpy as np\n",
    "import pandas as pd\n",
    "import matplotlib.pyplot as plt\n",
    "from sklearn.model_selection import train_test_split\n",
    "import sklearn.linear_model as lm\n",
    "from sklearn.pipeline import Pipeline\n",
    "from sklearn.model_selection import cross_val_score\n",
    "from sklearn.preprocessing import StandardScaler\n",
    "\n",
    "from IPython.display import display, Latex, Markdown"
   ]
  },
  {
   "cell_type": "markdown",
   "metadata": {},
   "source": [
    "In this lab, we will use the same dataset as in Lab 7. Run the following cell to load the data into a dataframe:"
   ]
  },
  {
   "cell_type": "code",
   "execution_count": 3,
   "metadata": {},
   "outputs": [
    {
     "data": {
      "text/html": [
       "<div>\n",
       "<style scoped>\n",
       "    .dataframe tbody tr th:only-of-type {\n",
       "        vertical-align: middle;\n",
       "    }\n",
       "\n",
       "    .dataframe tbody tr th {\n",
       "        vertical-align: top;\n",
       "    }\n",
       "\n",
       "    .dataframe thead th {\n",
       "        text-align: right;\n",
       "    }\n",
       "</style>\n",
       "<table border=\"1\" class=\"dataframe\">\n",
       "  <thead>\n",
       "    <tr style=\"text-align: right;\">\n",
       "      <th></th>\n",
       "      <th>CRIM</th>\n",
       "      <th>ZN</th>\n",
       "      <th>INDUS</th>\n",
       "      <th>CHAS</th>\n",
       "      <th>NOX</th>\n",
       "      <th>RM</th>\n",
       "      <th>AGE</th>\n",
       "      <th>DIS</th>\n",
       "      <th>RAD</th>\n",
       "      <th>TAX</th>\n",
       "      <th>PTRATIO</th>\n",
       "      <th>B</th>\n",
       "      <th>LSTAT</th>\n",
       "    </tr>\n",
       "  </thead>\n",
       "  <tbody>\n",
       "    <tr>\n",
       "      <th>0</th>\n",
       "      <td>0.00632</td>\n",
       "      <td>18.0</td>\n",
       "      <td>2.31</td>\n",
       "      <td>0.0</td>\n",
       "      <td>0.538</td>\n",
       "      <td>6.575</td>\n",
       "      <td>65.2</td>\n",
       "      <td>4.0900</td>\n",
       "      <td>1.0</td>\n",
       "      <td>296.0</td>\n",
       "      <td>15.3</td>\n",
       "      <td>396.90</td>\n",
       "      <td>4.98</td>\n",
       "    </tr>\n",
       "    <tr>\n",
       "      <th>1</th>\n",
       "      <td>0.02731</td>\n",
       "      <td>0.0</td>\n",
       "      <td>7.07</td>\n",
       "      <td>0.0</td>\n",
       "      <td>0.469</td>\n",
       "      <td>6.421</td>\n",
       "      <td>78.9</td>\n",
       "      <td>4.9671</td>\n",
       "      <td>2.0</td>\n",
       "      <td>242.0</td>\n",
       "      <td>17.8</td>\n",
       "      <td>396.90</td>\n",
       "      <td>9.14</td>\n",
       "    </tr>\n",
       "    <tr>\n",
       "      <th>2</th>\n",
       "      <td>0.02729</td>\n",
       "      <td>0.0</td>\n",
       "      <td>7.07</td>\n",
       "      <td>0.0</td>\n",
       "      <td>0.469</td>\n",
       "      <td>7.185</td>\n",
       "      <td>61.1</td>\n",
       "      <td>4.9671</td>\n",
       "      <td>2.0</td>\n",
       "      <td>242.0</td>\n",
       "      <td>17.8</td>\n",
       "      <td>392.83</td>\n",
       "      <td>4.03</td>\n",
       "    </tr>\n",
       "    <tr>\n",
       "      <th>3</th>\n",
       "      <td>0.03237</td>\n",
       "      <td>0.0</td>\n",
       "      <td>2.18</td>\n",
       "      <td>0.0</td>\n",
       "      <td>0.458</td>\n",
       "      <td>6.998</td>\n",
       "      <td>45.8</td>\n",
       "      <td>6.0622</td>\n",
       "      <td>3.0</td>\n",
       "      <td>222.0</td>\n",
       "      <td>18.7</td>\n",
       "      <td>394.63</td>\n",
       "      <td>2.94</td>\n",
       "    </tr>\n",
       "    <tr>\n",
       "      <th>4</th>\n",
       "      <td>0.06905</td>\n",
       "      <td>0.0</td>\n",
       "      <td>2.18</td>\n",
       "      <td>0.0</td>\n",
       "      <td>0.458</td>\n",
       "      <td>7.147</td>\n",
       "      <td>54.2</td>\n",
       "      <td>6.0622</td>\n",
       "      <td>3.0</td>\n",
       "      <td>222.0</td>\n",
       "      <td>18.7</td>\n",
       "      <td>396.90</td>\n",
       "      <td>5.33</td>\n",
       "    </tr>\n",
       "  </tbody>\n",
       "</table>\n",
       "</div>"
      ],
      "text/plain": [
       "      CRIM    ZN  INDUS  CHAS    NOX     RM   AGE     DIS  RAD    TAX  \\\n",
       "0  0.00632  18.0   2.31   0.0  0.538  6.575  65.2  4.0900  1.0  296.0   \n",
       "1  0.02731   0.0   7.07   0.0  0.469  6.421  78.9  4.9671  2.0  242.0   \n",
       "2  0.02729   0.0   7.07   0.0  0.469  7.185  61.1  4.9671  2.0  242.0   \n",
       "3  0.03237   0.0   2.18   0.0  0.458  6.998  45.8  6.0622  3.0  222.0   \n",
       "4  0.06905   0.0   2.18   0.0  0.458  7.147  54.2  6.0622  3.0  222.0   \n",
       "\n",
       "   PTRATIO       B  LSTAT  \n",
       "0     15.3  396.90   4.98  \n",
       "1     17.8  396.90   9.14  \n",
       "2     17.8  392.83   4.03  \n",
       "3     18.7  394.63   2.94  \n",
       "4     18.7  396.90   5.33  "
      ]
     },
     "execution_count": 3,
     "metadata": {},
     "output_type": "execute_result"
    }
   ],
   "source": [
    "from sklearn.datasets import load_boston\n",
    "boston_data = load_boston()\n",
    "#print(boston_data['DESCR']) # Uncomment this line if you are interested in what the features are\n",
    "\n",
    "boston = pd.DataFrame(boston_data['data'], columns=boston_data['feature_names'])\n",
    "boston.head()"
   ]
  },
  {
   "cell_type": "markdown",
   "metadata": {},
   "source": [
    "Recall that in Lab 7, we started with a linear model using the full set of features from the `boston` dataframe, expanded the feature set by adding the square, square root, and hyperbolic tangent of every feature in the original dataframe, and used cross-validation to select the best first $N$ features from the expanded feature set. "
   ]
  },
  {
   "cell_type": "markdown",
   "metadata": {},
   "source": [
    "Please run the following cell to expand the feature set by adding the square, square root, and hyperbolic tangent of every feature in the original dataframe like we did in Lab 7. Now the feature matrix has 52 features."
   ]
  },
  {
   "cell_type": "code",
   "execution_count": 4,
   "metadata": {
    "scrolled": true
   },
   "outputs": [
    {
     "data": {
      "text/html": [
       "<div>\n",
       "<style scoped>\n",
       "    .dataframe tbody tr th:only-of-type {\n",
       "        vertical-align: middle;\n",
       "    }\n",
       "\n",
       "    .dataframe tbody tr th {\n",
       "        vertical-align: top;\n",
       "    }\n",
       "\n",
       "    .dataframe thead th {\n",
       "        text-align: right;\n",
       "    }\n",
       "</style>\n",
       "<table border=\"1\" class=\"dataframe\">\n",
       "  <thead>\n",
       "    <tr style=\"text-align: right;\">\n",
       "      <th></th>\n",
       "      <th>CRIM</th>\n",
       "      <th>ZN</th>\n",
       "      <th>INDUS</th>\n",
       "      <th>CHAS</th>\n",
       "      <th>NOX</th>\n",
       "      <th>RM</th>\n",
       "      <th>AGE</th>\n",
       "      <th>DIS</th>\n",
       "      <th>RAD</th>\n",
       "      <th>TAX</th>\n",
       "      <th>...</th>\n",
       "      <th>tanhTAX</th>\n",
       "      <th>PTRATIO^2</th>\n",
       "      <th>sqrtPTRATIO</th>\n",
       "      <th>tanhPTRATIO</th>\n",
       "      <th>B^2</th>\n",
       "      <th>sqrtB</th>\n",
       "      <th>tanhB</th>\n",
       "      <th>LSTAT^2</th>\n",
       "      <th>sqrtLSTAT</th>\n",
       "      <th>tanhLSTAT</th>\n",
       "    </tr>\n",
       "  </thead>\n",
       "  <tbody>\n",
       "    <tr>\n",
       "      <th>0</th>\n",
       "      <td>0.00632</td>\n",
       "      <td>18.0</td>\n",
       "      <td>2.31</td>\n",
       "      <td>0.0</td>\n",
       "      <td>0.538</td>\n",
       "      <td>6.575</td>\n",
       "      <td>65.2</td>\n",
       "      <td>4.0900</td>\n",
       "      <td>1.0</td>\n",
       "      <td>296.0</td>\n",
       "      <td>...</td>\n",
       "      <td>1.0</td>\n",
       "      <td>234.09</td>\n",
       "      <td>3.911521</td>\n",
       "      <td>1.0</td>\n",
       "      <td>157529.6100</td>\n",
       "      <td>19.922349</td>\n",
       "      <td>1.0</td>\n",
       "      <td>24.8004</td>\n",
       "      <td>2.231591</td>\n",
       "      <td>0.999905</td>\n",
       "    </tr>\n",
       "    <tr>\n",
       "      <th>1</th>\n",
       "      <td>0.02731</td>\n",
       "      <td>0.0</td>\n",
       "      <td>7.07</td>\n",
       "      <td>0.0</td>\n",
       "      <td>0.469</td>\n",
       "      <td>6.421</td>\n",
       "      <td>78.9</td>\n",
       "      <td>4.9671</td>\n",
       "      <td>2.0</td>\n",
       "      <td>242.0</td>\n",
       "      <td>...</td>\n",
       "      <td>1.0</td>\n",
       "      <td>316.84</td>\n",
       "      <td>4.219005</td>\n",
       "      <td>1.0</td>\n",
       "      <td>157529.6100</td>\n",
       "      <td>19.922349</td>\n",
       "      <td>1.0</td>\n",
       "      <td>83.5396</td>\n",
       "      <td>3.023243</td>\n",
       "      <td>1.000000</td>\n",
       "    </tr>\n",
       "    <tr>\n",
       "      <th>2</th>\n",
       "      <td>0.02729</td>\n",
       "      <td>0.0</td>\n",
       "      <td>7.07</td>\n",
       "      <td>0.0</td>\n",
       "      <td>0.469</td>\n",
       "      <td>7.185</td>\n",
       "      <td>61.1</td>\n",
       "      <td>4.9671</td>\n",
       "      <td>2.0</td>\n",
       "      <td>242.0</td>\n",
       "      <td>...</td>\n",
       "      <td>1.0</td>\n",
       "      <td>316.84</td>\n",
       "      <td>4.219005</td>\n",
       "      <td>1.0</td>\n",
       "      <td>154315.4089</td>\n",
       "      <td>19.819939</td>\n",
       "      <td>1.0</td>\n",
       "      <td>16.2409</td>\n",
       "      <td>2.007486</td>\n",
       "      <td>0.999368</td>\n",
       "    </tr>\n",
       "    <tr>\n",
       "      <th>3</th>\n",
       "      <td>0.03237</td>\n",
       "      <td>0.0</td>\n",
       "      <td>2.18</td>\n",
       "      <td>0.0</td>\n",
       "      <td>0.458</td>\n",
       "      <td>6.998</td>\n",
       "      <td>45.8</td>\n",
       "      <td>6.0622</td>\n",
       "      <td>3.0</td>\n",
       "      <td>222.0</td>\n",
       "      <td>...</td>\n",
       "      <td>1.0</td>\n",
       "      <td>349.69</td>\n",
       "      <td>4.324350</td>\n",
       "      <td>1.0</td>\n",
       "      <td>155732.8369</td>\n",
       "      <td>19.865296</td>\n",
       "      <td>1.0</td>\n",
       "      <td>8.6436</td>\n",
       "      <td>1.714643</td>\n",
       "      <td>0.994426</td>\n",
       "    </tr>\n",
       "    <tr>\n",
       "      <th>4</th>\n",
       "      <td>0.06905</td>\n",
       "      <td>0.0</td>\n",
       "      <td>2.18</td>\n",
       "      <td>0.0</td>\n",
       "      <td>0.458</td>\n",
       "      <td>7.147</td>\n",
       "      <td>54.2</td>\n",
       "      <td>6.0622</td>\n",
       "      <td>3.0</td>\n",
       "      <td>222.0</td>\n",
       "      <td>...</td>\n",
       "      <td>1.0</td>\n",
       "      <td>349.69</td>\n",
       "      <td>4.324350</td>\n",
       "      <td>1.0</td>\n",
       "      <td>157529.6100</td>\n",
       "      <td>19.922349</td>\n",
       "      <td>1.0</td>\n",
       "      <td>28.4089</td>\n",
       "      <td>2.308679</td>\n",
       "      <td>0.999953</td>\n",
       "    </tr>\n",
       "  </tbody>\n",
       "</table>\n",
       "<p>5 rows × 52 columns</p>\n",
       "</div>"
      ],
      "text/plain": [
       "      CRIM    ZN  INDUS  CHAS    NOX     RM   AGE     DIS  RAD    TAX  ...  \\\n",
       "0  0.00632  18.0   2.31   0.0  0.538  6.575  65.2  4.0900  1.0  296.0  ...   \n",
       "1  0.02731   0.0   7.07   0.0  0.469  6.421  78.9  4.9671  2.0  242.0  ...   \n",
       "2  0.02729   0.0   7.07   0.0  0.469  7.185  61.1  4.9671  2.0  242.0  ...   \n",
       "3  0.03237   0.0   2.18   0.0  0.458  6.998  45.8  6.0622  3.0  222.0  ...   \n",
       "4  0.06905   0.0   2.18   0.0  0.458  7.147  54.2  6.0622  3.0  222.0  ...   \n",
       "\n",
       "   tanhTAX  PTRATIO^2  sqrtPTRATIO  tanhPTRATIO          B^2      sqrtB  \\\n",
       "0      1.0     234.09     3.911521          1.0  157529.6100  19.922349   \n",
       "1      1.0     316.84     4.219005          1.0  157529.6100  19.922349   \n",
       "2      1.0     316.84     4.219005          1.0  154315.4089  19.819939   \n",
       "3      1.0     349.69     4.324350          1.0  155732.8369  19.865296   \n",
       "4      1.0     349.69     4.324350          1.0  157529.6100  19.922349   \n",
       "\n",
       "   tanhB  LSTAT^2  sqrtLSTAT  tanhLSTAT  \n",
       "0    1.0  24.8004   2.231591   0.999905  \n",
       "1    1.0  83.5396   3.023243   1.000000  \n",
       "2    1.0  16.2409   2.007486   0.999368  \n",
       "3    1.0   8.6436   1.714643   0.994426  \n",
       "4    1.0  28.4089   2.308679   0.999953  \n",
       "\n",
       "[5 rows x 52 columns]"
      ]
     },
     "execution_count": 4,
     "metadata": {},
     "output_type": "execute_result"
    }
   ],
   "source": [
    "boston_with_extra_features = boston.copy()\n",
    "for feature_name in boston.columns:\n",
    "    boston_with_extra_features[feature_name + \"^2\"] = boston_with_extra_features[feature_name] ** 2\n",
    "    boston_with_extra_features[\"sqrt\" + feature_name] = np.sqrt(boston_with_extra_features[feature_name])\n",
    "    boston_with_extra_features[\"tanh\" + feature_name] = np.tanh(boston_with_extra_features[feature_name])\n",
    "    \n",
    "boston_with_extra_features.head(5)"
   ]
  },
  {
   "cell_type": "code",
   "execution_count": 5,
   "metadata": {},
   "outputs": [],
   "source": [
    "X = boston_with_extra_features\n",
    "Y = boston_data['target']"
   ]
  },
  {
   "cell_type": "markdown",
   "metadata": {},
   "source": [
    "However, recall from Lab 7 that when we plot the training and test error as we add each additional feature, our model begins to overfit. That is, even though the training error continues to decrease, the test error starts to increase. This is undesirable as the goal of machine learning is that our model should generalize well to unseen data.\n",
    "\n",
    "In Lab 7, we used cross validation to find the best \"first $N$\" features. One drawback of this method is that we are not considering every subset of the features. In fact, we only compared the perfomance of models trained from 52 different feature sets. We can in theory use cross-validation on all possible subsets of the $52$ features, which will involving doing cross-validation on\n",
    "$$2^{52} - 1 \\approx 4.5 \\times 10^{15}$$  \n",
    "different feature sets, which can be computationally challenging."
   ]
  },
  {
   "cell_type": "markdown",
   "metadata": {},
   "source": [
    "Alteratively, we can use lasso regularization to perform automatic feature selection. And in general, we can use regularization to avoid overfitting. The idea of regularization is to penalize the weights $\\theta$ corresponding to the features through some function $Reg(\\theta)$ in the loss. Hence our objective is to compute the following:\n",
    "\n",
    "$$\n",
    "\\hat{\\theta} = \\arg \\min\\limits_{\\theta} \\frac{1}{n}\\sum\\limits_{i=1}^{n} Loss(Y_i, f_{\\theta}(X_i)) + \\alpha Reg(\\theta)\n",
    "$$\n",
    "where $\\alpha$ is a hyperparameter. \n",
    "\n",
    "In the following questions we will examine two commonly used regularization functions ($d$ is the number of features used):\n",
    "\n",
    "(1) Lasso: $\\text{Reg}^{\\text{lasso}}(\\theta) = \\sum_{i=1}^{d} |\\theta_i|$\n",
    "\n",
    "(2) Ridge: $\\text{Reg}^{\\text{ridge}}(\\theta) = \\sum_{i=1}^{d} \\theta_i^2$"
   ]
  },
  {
   "cell_type": "markdown",
   "metadata": {
    "deletable": false,
    "editable": false
   },
   "source": [
    "## Question 1\n",
    "\n",
    "Before we fit a linear model with regularization, we need to first normalize our features. This is because if different features are on different magnitude scales, the magnitude of the corresponding weights for a good model may be very different. However, we penalize the weight for each feature equally in regularization. \n",
    "\n",
    "You can standardize a feature by computing: \n",
    "$$\n",
    "z = \\frac{x - \\text{Mean}(x)}{\\text{StdDev}(x)}\n",
    "$$\n",
    "\n",
    "In the cell below, complete the `normalize` function which returns the standardized version of input `data`. If $\\text{StdDev}(x)$ is $0$ for a feature, fill in $0$'s for the standardized values for this feature.\n",
    "\n",
    "<!--\n",
    "BEGIN QUESTION\n",
    "name: q1\n",
    "-->"
   ]
  },
  {
   "cell_type": "code",
   "execution_count": 6,
   "metadata": {
    "scrolled": true
   },
   "outputs": [
    {
     "data": {
      "text/html": [
       "<div>\n",
       "<style scoped>\n",
       "    .dataframe tbody tr th:only-of-type {\n",
       "        vertical-align: middle;\n",
       "    }\n",
       "\n",
       "    .dataframe tbody tr th {\n",
       "        vertical-align: top;\n",
       "    }\n",
       "\n",
       "    .dataframe thead th {\n",
       "        text-align: right;\n",
       "    }\n",
       "</style>\n",
       "<table border=\"1\" class=\"dataframe\">\n",
       "  <thead>\n",
       "    <tr style=\"text-align: right;\">\n",
       "      <th></th>\n",
       "      <th>CRIM</th>\n",
       "      <th>ZN</th>\n",
       "      <th>INDUS</th>\n",
       "      <th>CHAS</th>\n",
       "      <th>NOX</th>\n",
       "      <th>RM</th>\n",
       "      <th>AGE</th>\n",
       "      <th>DIS</th>\n",
       "      <th>RAD</th>\n",
       "      <th>TAX</th>\n",
       "      <th>...</th>\n",
       "      <th>tanhTAX</th>\n",
       "      <th>PTRATIO^2</th>\n",
       "      <th>sqrtPTRATIO</th>\n",
       "      <th>tanhPTRATIO</th>\n",
       "      <th>B^2</th>\n",
       "      <th>sqrtB</th>\n",
       "      <th>tanhB</th>\n",
       "      <th>LSTAT^2</th>\n",
       "      <th>sqrtLSTAT</th>\n",
       "      <th>tanhLSTAT</th>\n",
       "    </tr>\n",
       "  </thead>\n",
       "  <tbody>\n",
       "    <tr>\n",
       "      <th>0</th>\n",
       "      <td>-0.419367</td>\n",
       "      <td>0.284548</td>\n",
       "      <td>-1.286636</td>\n",
       "      <td>-0.272329</td>\n",
       "      <td>-0.144075</td>\n",
       "      <td>0.413263</td>\n",
       "      <td>-0.119895</td>\n",
       "      <td>0.140075</td>\n",
       "      <td>-0.981871</td>\n",
       "      <td>-0.665949</td>\n",
       "      <td>...</td>\n",
       "      <td>0.0</td>\n",
       "      <td>-1.456987</td>\n",
       "      <td>-1.452136</td>\n",
       "      <td>0.134676</td>\n",
       "      <td>0.525807</td>\n",
       "      <td>0.384010</td>\n",
       "      <td>0.046184</td>\n",
       "      <td>-0.788749</td>\n",
       "      <td>-1.201500</td>\n",
       "      <td>0.103427</td>\n",
       "    </tr>\n",
       "    <tr>\n",
       "      <th>1</th>\n",
       "      <td>-0.416927</td>\n",
       "      <td>-0.487240</td>\n",
       "      <td>-0.592794</td>\n",
       "      <td>-0.272329</td>\n",
       "      <td>-0.739530</td>\n",
       "      <td>0.194082</td>\n",
       "      <td>0.366803</td>\n",
       "      <td>0.556609</td>\n",
       "      <td>-0.867024</td>\n",
       "      <td>-0.986353</td>\n",
       "      <td>...</td>\n",
       "      <td>0.0</td>\n",
       "      <td>-0.372709</td>\n",
       "      <td>-0.266657</td>\n",
       "      <td>0.178549</td>\n",
       "      <td>0.525807</td>\n",
       "      <td>0.384010</td>\n",
       "      <td>0.046184</td>\n",
       "      <td>-0.539919</td>\n",
       "      <td>-0.399557</td>\n",
       "      <td>0.128269</td>\n",
       "    </tr>\n",
       "    <tr>\n",
       "      <th>2</th>\n",
       "      <td>-0.416929</td>\n",
       "      <td>-0.487240</td>\n",
       "      <td>-0.592794</td>\n",
       "      <td>-0.272329</td>\n",
       "      <td>-0.739530</td>\n",
       "      <td>1.281446</td>\n",
       "      <td>-0.265549</td>\n",
       "      <td>0.556609</td>\n",
       "      <td>-0.867024</td>\n",
       "      <td>-0.986353</td>\n",
       "      <td>...</td>\n",
       "      <td>0.0</td>\n",
       "      <td>-0.372709</td>\n",
       "      <td>-0.266657</td>\n",
       "      <td>0.178549</td>\n",
       "      <td>0.448969</td>\n",
       "      <td>0.355550</td>\n",
       "      <td>0.046184</td>\n",
       "      <td>-0.825008</td>\n",
       "      <td>-1.428519</td>\n",
       "      <td>-0.037809</td>\n",
       "    </tr>\n",
       "    <tr>\n",
       "      <th>3</th>\n",
       "      <td>-0.416338</td>\n",
       "      <td>-0.487240</td>\n",
       "      <td>-1.305586</td>\n",
       "      <td>-0.272329</td>\n",
       "      <td>-0.834458</td>\n",
       "      <td>1.015298</td>\n",
       "      <td>-0.809088</td>\n",
       "      <td>1.076671</td>\n",
       "      <td>-0.752178</td>\n",
       "      <td>-1.105022</td>\n",
       "      <td>...</td>\n",
       "      <td>0.0</td>\n",
       "      <td>0.057726</td>\n",
       "      <td>0.139493</td>\n",
       "      <td>0.178788</td>\n",
       "      <td>0.482854</td>\n",
       "      <td>0.368155</td>\n",
       "      <td>0.046184</td>\n",
       "      <td>-0.857192</td>\n",
       "      <td>-1.725169</td>\n",
       "      <td>-1.337326</td>\n",
       "    </tr>\n",
       "    <tr>\n",
       "      <th>4</th>\n",
       "      <td>-0.412074</td>\n",
       "      <td>-0.487240</td>\n",
       "      <td>-1.305586</td>\n",
       "      <td>-0.272329</td>\n",
       "      <td>-0.834458</td>\n",
       "      <td>1.227362</td>\n",
       "      <td>-0.510674</td>\n",
       "      <td>1.076671</td>\n",
       "      <td>-0.752178</td>\n",
       "      <td>-1.105022</td>\n",
       "      <td>...</td>\n",
       "      <td>0.0</td>\n",
       "      <td>0.057726</td>\n",
       "      <td>0.139493</td>\n",
       "      <td>0.178788</td>\n",
       "      <td>0.525807</td>\n",
       "      <td>0.384010</td>\n",
       "      <td>0.046184</td>\n",
       "      <td>-0.773463</td>\n",
       "      <td>-1.123410</td>\n",
       "      <td>0.115936</td>\n",
       "    </tr>\n",
       "  </tbody>\n",
       "</table>\n",
       "<p>5 rows × 52 columns</p>\n",
       "</div>"
      ],
      "text/plain": [
       "       CRIM        ZN     INDUS      CHAS       NOX        RM       AGE  \\\n",
       "0 -0.419367  0.284548 -1.286636 -0.272329 -0.144075  0.413263 -0.119895   \n",
       "1 -0.416927 -0.487240 -0.592794 -0.272329 -0.739530  0.194082  0.366803   \n",
       "2 -0.416929 -0.487240 -0.592794 -0.272329 -0.739530  1.281446 -0.265549   \n",
       "3 -0.416338 -0.487240 -1.305586 -0.272329 -0.834458  1.015298 -0.809088   \n",
       "4 -0.412074 -0.487240 -1.305586 -0.272329 -0.834458  1.227362 -0.510674   \n",
       "\n",
       "        DIS       RAD       TAX  ...  tanhTAX  PTRATIO^2  sqrtPTRATIO  \\\n",
       "0  0.140075 -0.981871 -0.665949  ...      0.0  -1.456987    -1.452136   \n",
       "1  0.556609 -0.867024 -0.986353  ...      0.0  -0.372709    -0.266657   \n",
       "2  0.556609 -0.867024 -0.986353  ...      0.0  -0.372709    -0.266657   \n",
       "3  1.076671 -0.752178 -1.105022  ...      0.0   0.057726     0.139493   \n",
       "4  1.076671 -0.752178 -1.105022  ...      0.0   0.057726     0.139493   \n",
       "\n",
       "   tanhPTRATIO       B^2     sqrtB     tanhB   LSTAT^2  sqrtLSTAT  tanhLSTAT  \n",
       "0     0.134676  0.525807  0.384010  0.046184 -0.788749  -1.201500   0.103427  \n",
       "1     0.178549  0.525807  0.384010  0.046184 -0.539919  -0.399557   0.128269  \n",
       "2     0.178549  0.448969  0.355550  0.046184 -0.825008  -1.428519  -0.037809  \n",
       "3     0.178788  0.482854  0.368155  0.046184 -0.857192  -1.725169  -1.337326  \n",
       "4     0.178788  0.525807  0.384010  0.046184 -0.773463  -1.123410   0.115936  \n",
       "\n",
       "[5 rows x 52 columns]"
      ]
     },
     "execution_count": 6,
     "metadata": {},
     "output_type": "execute_result"
    }
   ],
   "source": [
    "def normalize(data):\n",
    "    '''\n",
    "    Args:\n",
    "        data : a dataframe\n",
    "    Returns:\n",
    "        the normalized version of input data with NAN values filled with 0's\n",
    "    '''\n",
    "    return ((data - data.mean())/data.std()).fillna(0)\n",
    "\n",
    "X_normalized = normalize(X)\n",
    "X_normalized.head()"
   ]
  },
  {
   "cell_type": "code",
   "execution_count": 7,
   "metadata": {
    "deletable": false,
    "editable": false
   },
   "outputs": [
    {
     "name": "stdout",
     "output_type": "stream",
     "text": [
      "~~~~~~~~~~~~~~~~~~~~~~~~~~~~~~~~~~~~~~~~~~~~~~~~~~~~~~~~~~~~~~~~~~~~~\n",
      "Running tests\n",
      "\n",
      "---------------------------------------------------------------------\n",
      "Test summary\n",
      "    Passed: 3\n",
      "    Failed: 0\n",
      "[ooooooooook] 100.0% passed\n",
      "\n"
     ]
    }
   ],
   "source": [
    "ok.grade(\"q1\");"
   ]
  },
  {
   "cell_type": "markdown",
   "metadata": {},
   "source": [
    "Note that we asked you to implement the normalize function yourself above to help you gain familiarity with what is means by normalizing the data. However, for the rest of the lab, we will use the [StandardScaler](https://scikit-learn.org/stable/modules/generated/sklearn.preprocessing.StandardScaler.html) function from sklearn."
   ]
  },
  {
   "cell_type": "markdown",
   "metadata": {},
   "source": [
    "Now we will split the dataset into training set and test set. Then we compute the normalized version of them."
   ]
  },
  {
   "cell_type": "code",
   "execution_count": 8,
   "metadata": {},
   "outputs": [],
   "source": [
    "# Train & Test split\n",
    "np.random.seed(41) # Do not change this line\n",
    "X_train, X_test, Y_train, Y_test = train_test_split(X, Y, test_size = 0.10)\n",
    "X_train_normalized = StandardScaler().fit_transform(X_train)\n",
    "X_test_normalized = StandardScaler().fit_transform(X_test)"
   ]
  },
  {
   "cell_type": "markdown",
   "metadata": {},
   "source": [
    "## Ridge Regression\n"
   ]
  },
  {
   "cell_type": "markdown",
   "metadata": {},
   "source": [
    "If we use ridge regression and assume our loss is $L_2$ loss, we solve the following optimization problem: \n",
    "$$\n",
    "\\hat{\\theta} = \\arg \\min\\limits_{\\theta} \\frac{1}{n}\\sum\\limits_{i=1}^{n} L_2(Y_i, f_{\\theta}(X_i)) + \\alpha \\sum\\limits_{k=1}^{d}\\theta_k^2.\n",
    "$$\n",
    "where $\\alpha$ is a nonnegative hyper-parameter. \n",
    "\n",
    "One nice thing about ridge linear regression with L-2 loss is that it admits a closed form solution even if $X^{\\top}X$ is not full rank. The closed form solution is given by\n",
    "$$\n",
    "\\hat{\\theta} = (X^{\\top}X + n\\alpha I)^{-1}X^{\\top}Y\n",
    "$$\n",
    "for the above optimization problem.\n",
    "\n",
    "To evaluate model performance, we define RMSE in the following cell:"
   ]
  },
  {
   "cell_type": "code",
   "execution_count": 9,
   "metadata": {},
   "outputs": [],
   "source": [
    "def rmse_score(model, X, y):\n",
    "    return np.sqrt(np.mean((y - model.predict(X)) ** 2))"
   ]
  },
  {
   "cell_type": "markdown",
   "metadata": {
    "deletable": false,
    "editable": false
   },
   "source": [
    "## Question 2a\n",
    "\n",
    "Use `sklearn.linear_model.ridge` to fit ridge linear regression models and compute the RMSE using \n",
    "**5-fold** cross-validation. \n",
    "\n",
    "**Note: the data should be normalized after splitting the data in general.** For this question, to normalize the data, please use the function [StandardScaler](https://scikit-learn.org/stable/modules/generated/sklearn.preprocessing.StandardScaler.html). Please use this function in combination with [Pipeline](https://scikit-learn.org/stable/modules/generated/sklearn.pipeline.Pipeline.html), [cross_val_score](https://scikit-learn.org/stable/modules/generated/sklearn.model_selection.cross_val_score.html), and function `rmse_score` defined previously to complete the code in the cell below. \n",
    "\n",
    "<!--\n",
    "BEGIN QUESTION\n",
    "name: q2a\n",
    "-->"
   ]
  },
  {
   "cell_type": "code",
   "execution_count": 10,
   "metadata": {},
   "outputs": [
    {
     "name": "stdout",
     "output_type": "stream",
     "text": [
      "Validation RMSE: 14.615491801879747\n"
     ]
    }
   ],
   "source": [
    "from sklearn.linear_model import Ridge\n",
    "\n",
    "alpha = 0.1 # The regularization hyperparameter\n",
    "\n",
    "# Initiate a model with the hyperparameter `alpha`\n",
    "# Hint: the syntax should look like: Pipeline([(\"transformer\", ..., (\"LinearModel\", ...)])\n",
    "model = Pipeline([(\"transformer\", StandardScaler()), (\"LinearModel\", Ridge(alpha))])\n",
    "# Evaluate the RMSE of the validation error\n",
    "# Hint: Don't forget to take the mean!\n",
    "validation_error = np.mean(cross_val_score(model, X_train, Y_train, scoring = rmse_score, cv = 5))\n",
    "\n",
    "print(\"Validation RMSE:\", validation_error)"
   ]
  },
  {
   "cell_type": "code",
   "execution_count": 11,
   "metadata": {
    "deletable": false,
    "editable": false
   },
   "outputs": [
    {
     "name": "stdout",
     "output_type": "stream",
     "text": [
      "~~~~~~~~~~~~~~~~~~~~~~~~~~~~~~~~~~~~~~~~~~~~~~~~~~~~~~~~~~~~~~~~~~~~~\n",
      "Running tests\n",
      "\n",
      "---------------------------------------------------------------------\n",
      "Test summary\n",
      "    Passed: 1\n",
      "    Failed: 0\n",
      "[ooooooooook] 100.0% passed\n",
      "\n"
     ]
    }
   ],
   "source": [
    "ok.grade(\"q2a\");"
   ]
  },
  {
   "cell_type": "markdown",
   "metadata": {},
   "source": [
    "### Hyperparameter in Ridge Linear Regression\n",
    "\n",
    "We just fitted models using ridge regression! However, our choice of hyperparameter seems rather arbitrary. \n",
    "\n",
    "In the following questions, we will experiment with different choices of $\\alpha$ and look at the effect of different values of $\\alpha$ on the weights. \n",
    "\n",
    "For your convenience, we define a function `ridge_alpha` which returns the weights $\\theta$ of the fitted linear model given standardized data `X` and `y` with ridge regression and the RMSE on the input data."
   ]
  },
  {
   "cell_type": "code",
   "execution_count": 12,
   "metadata": {},
   "outputs": [],
   "source": [
    "def ridge_alpha(alpha, X, y):\n",
    "    \"\"\"\n",
    "    Input:\n",
    "        X - standardized feature matrix\n",
    "        y - target vector\n",
    "        alpha - regularization hyper-parameter\n",
    "    Output:\n",
    "        The tuple: (model_weights, rmse) where model_weights is d-dimensional array, each element \n",
    "        is rounded to the 3rd decimal. d is the dimension of each datapoint, or equivalently, the number \n",
    "        of features.\n",
    "    \"\"\"\n",
    "    model = Ridge(alpha = alpha)\n",
    "    model.fit(X, y)\n",
    "    error = rmse_score(model, X, y)\n",
    "\n",
    "    return (np.round(model.coef_, decimals = 3), error)"
   ]
  },
  {
   "cell_type": "markdown",
   "metadata": {},
   "source": [
    "Let's first examine the output of ridge regression for extreme values of $\\alpha$. \n",
    "\n",
    "To start, let's consider the case where $\\alpha = 0$. In this case, the ridge linear regression objective function:\n",
    "$$\n",
    "\\frac{1}{n}\\sum\\limits_{i=1}^{n} L_2(Y_i, f_{\\theta}(X_i)) + \\alpha \\sum\\limits_{i=1}^{d}\\theta_k^2\n",
    "$$\n",
    "becomes\n",
    "$$\n",
    "\\frac{1}{n}\\sum\\limits_{i=1}^{n} L_2(Y_i, f_{\\theta}(X_i)),\n",
    "$$\n",
    "which is identical to the loss function for ordinary least squares. Hence, in this case, the linear model we fit will be identical to the one without regularization."
   ]
  },
  {
   "cell_type": "markdown",
   "metadata": {
    "deletable": false,
    "editable": false
   },
   "source": [
    "## Question 2b\n",
    "\n",
    "### Question 2b(i)\n",
    "Now let's consider the case where $\\alpha$ is very large. In the cell below, compute the weights and RMSE of the ridge regression model when $\\alpha = 10^{10}$.\n",
    "\n",
    "<!--\n",
    "BEGIN QUESTION\n",
    "name: q2bi\n",
    "-->"
   ]
  },
  {
   "cell_type": "code",
   "execution_count": 13,
   "metadata": {},
   "outputs": [
    {
     "name": "stdout",
     "output_type": "stream",
     "text": [
      "weights: [-0.  0. -0.  0. -0.  0. -0. -0.  0. -0. -0.  0. -0. -0. -0. -0.  0.  0.\n",
      "  0. -0. -0. -0.  0.  0.  0. -0. -0. -0.  0.  0.  0. -0. -0. -0. -0. -0.\n",
      " -0.  0.  0.  0. -0. -0.  0. -0. -0. -0.  0.  0. -0. -0. -0. -0.]\n",
      "RMSE: 8.242623907898471\n"
     ]
    }
   ],
   "source": [
    "ridge_alpha_10e10_weights, ridge_alpha_10e10_rmse = ridge_alpha(10e10, X_train, Y_train)\n",
    "print(\"weights:\", ridge_alpha_10e10_weights)\n",
    "print(\"RMSE:\", ridge_alpha_10e10_rmse)"
   ]
  },
  {
   "cell_type": "code",
   "execution_count": 14,
   "metadata": {
    "deletable": false,
    "editable": false
   },
   "outputs": [
    {
     "name": "stdout",
     "output_type": "stream",
     "text": [
      "~~~~~~~~~~~~~~~~~~~~~~~~~~~~~~~~~~~~~~~~~~~~~~~~~~~~~~~~~~~~~~~~~~~~~\n",
      "Running tests\n",
      "\n",
      "---------------------------------------------------------------------\n",
      "Test summary\n",
      "    Passed: 1\n",
      "    Failed: 0\n",
      "[ooooooooook] 100.0% passed\n",
      "\n"
     ]
    }
   ],
   "source": [
    "ok.grade(\"q2bi\");"
   ]
  },
  {
   "cell_type": "markdown",
   "metadata": {
    "deletable": false,
    "editable": false
   },
   "source": [
    "### Question 2b(ii)\n",
    "\n",
    "What do you observe from the result above? Justify your observation. Write your answers in the cell below:\n",
    "\n",
    "<!--\n",
    "BEGIN QUESTION\n",
    "name: q2bii\n",
    "-->"
   ]
  },
  {
   "cell_type": "markdown",
   "metadata": {},
   "source": [
    "The alpha value is very large relative to the weights because have the weights equal almost zero is the best way to minimise error with a large alpha."
   ]
  },
  {
   "cell_type": "markdown",
   "metadata": {},
   "source": [
    "## Question 2c "
   ]
  },
  {
   "cell_type": "markdown",
   "metadata": {
    "deletable": false,
    "editable": false
   },
   "source": [
    "In the cell below, compute the **5-fold** cross validation error using the sklearn functionalities introduced in lecture for all the values in `alpha_arr`. Then find the $\\alpha$ with the smallest cross-validation error.\n",
    "\n",
    "<!--\n",
    "BEGIN QUESTION\n",
    "name: q2c\n",
    "-->"
   ]
  },
  {
   "cell_type": "code",
   "execution_count": 15,
   "metadata": {},
   "outputs": [
    {
     "name": "stdout",
     "output_type": "stream",
     "text": [
      "The best alpha value is 0.15830508474576271\n",
      "Cross validation error for the best alpha value is 14.481714562577206\n"
     ]
    }
   ],
   "source": [
    "alpha_arr = np.linspace(0.02, 0.5, 60)\n",
    "cv_errors = []\n",
    "\n",
    "# Hint: This should be very similar to what you did in 2a.\n",
    "\n",
    "model = Pipeline([(\"transformer\", StandardScaler()), (\"LinearModel\", Ridge(alpha))])\n",
    "model.fit(X_train, Y_train)\n",
    "\n",
    "for alpha in alpha_arr:\n",
    "    model.set_params(LinearModel__alpha=alpha)\n",
    "        \n",
    "    # compute the cross validation error\n",
    "    cv_error = np.mean(cross_val_score(model, X_train, Y_train, scoring = rmse_score, cv = 5))\n",
    "    \n",
    "    cv_errors.append(cv_error)\n",
    "    \n",
    "best_alpha_ridge = alpha_arr[cv_errors.index(np.min(cv_errors))]\n",
    "\n",
    "print(f\"The best alpha value is {best_alpha_ridge}\")\n",
    "print(f\"Cross validation error for the best alpha value is {cv_errors[np.argmin(cv_errors)]}\")"
   ]
  },
  {
   "cell_type": "code",
   "execution_count": 16,
   "metadata": {
    "deletable": false,
    "editable": false
   },
   "outputs": [
    {
     "name": "stdout",
     "output_type": "stream",
     "text": [
      "~~~~~~~~~~~~~~~~~~~~~~~~~~~~~~~~~~~~~~~~~~~~~~~~~~~~~~~~~~~~~~~~~~~~~\n",
      "Running tests\n",
      "\n",
      "---------------------------------------------------------------------\n",
      "Test summary\n",
      "    Passed: 1\n",
      "    Failed: 0\n",
      "[ooooooooook] 100.0% passed\n",
      "\n"
     ]
    }
   ],
   "source": [
    "ok.grade(\"q2c\");"
   ]
  },
  {
   "cell_type": "markdown",
   "metadata": {
    "deletable": false,
    "editable": false
   },
   "source": [
    "## Question 2d\n",
    "In the cell below, plot the cross validation errors for different values of $\\alpha$ for ridge regression. The x-axis should be $\\alpha$ and y-axis should be the cross validation error.\n",
    "\n",
    "<!--\n",
    "BEGIN QUESTION\n",
    "name: q2d\n",
    "-->"
   ]
  },
  {
   "cell_type": "code",
   "execution_count": 19,
   "metadata": {
    "scrolled": true
   },
   "outputs": [
    {
     "data": {
      "image/png": "[encoded data removed]",
      "text/plain": [
       "<Figure size 432x288 with 1 Axes>"
      ]
     },
     "metadata": {
      "needs_background": "light"
     },
     "output_type": "display_data"
    }
   ],
   "source": [
    "plt.plot(alpha_arr, cv_errors)\n",
    "plt.xlabel(\"alpha\")\n",
    "plt.ylabel(\"Cross Validation Error\")\n",
    "plt.title(\"Cross Validation Error Against Alpha\")\n",
    "plt.show()"
   ]
  },
  {
   "cell_type": "markdown",
   "metadata": {},
   "source": [
    "What do you observe from the plot above? Write your answer in the cell below."
   ]
  },
  {
   "cell_type": "markdown",
   "metadata": {},
   "source": [
    "The minimum cross validation error seems to be when alpha is around 0.15 (similar to our calculation in 2c)."
   ]
  },
  {
   "cell_type": "markdown",
   "metadata": {},
   "source": [
    "## Lasso Regression\n",
    "\n",
    "If we use lasso regression and assume our loss is $L_2$ loss, we solve the following optimization problem: \n",
    "\n",
    "$$\n",
    "\\hat{\\theta} = \\arg \\min\\limits_{\\theta} \\frac{1}{n}\\sum\\limits_{i=1}^{n} L_2(Y_i, f_{\\theta}(X_i)) + \\alpha \\sum\\limits_{k=1}^{d}|\\theta_k|.\n",
    "$$\n",
    "\n",
    "One nice thing about lasso regression is that we can use it to select features because optimized weights for lasso regression are sparse, i.e., many of the weights are $0$'s. For more details on why this is true, please refer to Lecture 19. \n",
    "\n",
    "<img src=\"lasso.png\" width=500px>\n",
    "\n",
    "You can inspect the weights of a fitted lasso linear regression model in the cell below."
   ]
  },
  {
   "cell_type": "code",
   "execution_count": 20,
   "metadata": {},
   "outputs": [
    {
     "data": {
      "text/plain": [
       "array([-0.00000000e+00,  0.00000000e+00, -0.00000000e+00,  1.89814435e-04,\n",
       "       -0.00000000e+00,  0.00000000e+00, -0.00000000e+00, -0.00000000e+00,\n",
       "       -0.00000000e+00, -0.00000000e+00, -0.00000000e+00,  0.00000000e+00,\n",
       "       -0.00000000e+00, -0.00000000e+00, -0.00000000e+00, -0.00000000e+00,\n",
       "        0.00000000e+00,  0.00000000e+00,  0.00000000e+00, -0.00000000e+00,\n",
       "       -0.00000000e+00, -0.00000000e+00,  9.58388276e-02,  2.49861182e-16,\n",
       "        1.24930591e-16, -0.00000000e+00, -0.00000000e+00, -0.00000000e+00,\n",
       "        2.81742915e+00,  0.00000000e+00, -0.00000000e+00, -0.00000000e+00,\n",
       "       -0.00000000e+00,  0.00000000e+00, -0.00000000e+00, -0.00000000e+00,\n",
       "       -0.00000000e+00, -0.00000000e+00, -0.00000000e+00,  0.00000000e+00,\n",
       "       -0.00000000e+00, -0.00000000e+00,  0.00000000e+00, -0.00000000e+00,\n",
       "       -1.00827425e+00, -0.00000000e+00,  0.00000000e+00,  2.33415288e-01,\n",
       "        0.00000000e+00, -0.00000000e+00, -4.09722458e+00, -2.25533411e-02])"
      ]
     },
     "execution_count": 20,
     "metadata": {},
     "output_type": "execute_result"
    }
   ],
   "source": [
    "from sklearn.linear_model import Lasso\n",
    "\n",
    "model = Lasso(alpha = 1)\n",
    "model.fit(X_train_normalized, Y_train)\n",
    "model.coef_"
   ]
  },
  {
   "cell_type": "markdown",
   "metadata": {},
   "source": [
    "In comparison, the weights of a fitted ridge linear regression model looks like:"
   ]
  },
  {
   "cell_type": "code",
   "execution_count": 21,
   "metadata": {},
   "outputs": [
    {
     "data": {
      "text/plain": [
       "array([-2.26302901e+00, -2.06272043e+00,  1.11764381e+00,  1.38970319e-01,\n",
       "       -7.95402029e-01, -5.74045140e-01, -2.70520013e-01, -1.91484640e+00,\n",
       "        7.44555761e-01, -3.65231594e-01, -9.75774607e-01,  2.28463264e+00,\n",
       "        2.26263963e-01,  1.68717462e+00, -2.30814156e+00,  1.46007305e+00,\n",
       "        2.48199791e+00, -2.14749594e+00,  2.01041940e+00, -4.66948027e-02,\n",
       "       -1.50857443e+00, -3.45536581e-01,  1.38970319e-01,  1.38970319e-01,\n",
       "        1.38970319e-01, -2.52626196e+00,  4.85999267e-01,  2.72109452e-01,\n",
       "        8.74126822e+00, -5.37435186e+00,  3.72344988e-03, -2.13791478e-01,\n",
       "        7.16080895e-02,  1.80952178e-01,  3.08785667e-01, -2.00700353e-01,\n",
       "       -2.42642002e+00,  1.13107008e+00,  9.20301467e-01,  3.93556792e-01,\n",
       "        1.72867532e+00, -3.04877972e+00,  0.00000000e+00,  1.80178413e+00,\n",
       "       -2.42001210e+00,  5.92677955e-02, -1.91213877e+00, -9.27715887e-04,\n",
       "        3.07779127e-02,  6.54127461e-01, -5.05208413e+00, -4.66420136e-01])"
      ]
     },
     "execution_count": 21,
     "metadata": {},
     "output_type": "execute_result"
    }
   ],
   "source": [
    "model = Ridge(alpha = 1)\n",
    "model.fit(X_train_normalized, Y_train)\n",
    "model.coef_"
   ]
  },
  {
   "cell_type": "markdown",
   "metadata": {},
   "source": [
    "### Hyperparameter in Lasso Linear Regression\n",
    "\n",
    "Similar to ridge regression, as $\\alpha$ goes to zero, lasso regression becomes identical to ordinary linear regression without regularization; as $\\alpha$ goes to infinity, all the fitted weights become zero.  "
   ]
  },
  {
   "cell_type": "markdown",
   "metadata": {
    "deletable": false,
    "editable": false
   },
   "source": [
    "## Question 3\n",
    "Just like what we did for ridge regression, we need to tune the hyperparameter $\\alpha$ to find the best $\\alpha$ for lasso regression. In the cell below, use **5-fold** cross validation to find the optimal parameter $\\alpha$.\n",
    "\n",
    "**Note: When initiating your Lasso Linear Regression model, put `max_iter = 1000000` as an argument to `Lasso()`. The reason behind this is that for small regularization parameters, the Lasso Linear Regularization solver takes more iterations to converge.**\n",
    "\n",
    "<!--\n",
    "BEGIN QUESTION\n",
    "name: q3\n",
    "-->"
   ]
  },
  {
   "cell_type": "code",
   "execution_count": 22,
   "metadata": {},
   "outputs": [
    {
     "data": {
      "image/png": "[encoded data removed]",
      "text/plain": [
       "<Figure size 432x288 with 1 Axes>"
      ]
     },
     "metadata": {
      "needs_background": "light"
     },
     "output_type": "display_data"
    },
    {
     "name": "stdout",
     "output_type": "stream",
     "text": [
      "The best alpha value is 0.12372881355932204\n",
      "Cross validation error for the best alpha value is 4.350384165146851\n"
     ]
    }
   ],
   "source": [
    "alpha_arr = np.linspace(0.1, 1.5, 60)\n",
    "cv_errors = []\n",
    "model = Pipeline([(\"transformer\", StandardScaler()), (\"LinearModel\", Lasso(alpha, max_iter = 1000000))])\n",
    "model.fit(X_train, Y_train)\n",
    "\n",
    "for alpha in alpha_arr:\n",
    "    model.set_params(LinearModel__alpha=alpha)\n",
    "\n",
    "    # compute the cross validation error\n",
    "    cv_error = np.mean(cross_val_score(model, X_train, Y_train, scoring = rmse_score, cv = 5))\n",
    "    cv_errors.append(cv_error)\n",
    "    \n",
    "best_alpha_lasso = alpha_arr[cv_errors.index(np.min(cv_errors))]\n",
    "\n",
    "plt.plot(alpha_arr, cv_errors)\n",
    "plt.title('Cross validation error over alpha')\n",
    "plt.xlabel('Alpha')\n",
    "plt.ylabel('Cross validation error')\n",
    "plt.show()\n",
    "\n",
    "print(f\"The best alpha value is {best_alpha_lasso}\")\n",
    "print(f\"Cross validation error for the best alpha value is {cv_errors[np.argmin(cv_errors)]}\")"
   ]
  },
  {
   "cell_type": "code",
   "execution_count": 23,
   "metadata": {
    "deletable": false,
    "editable": false
   },
   "outputs": [
    {
     "name": "stdout",
     "output_type": "stream",
     "text": [
      "~~~~~~~~~~~~~~~~~~~~~~~~~~~~~~~~~~~~~~~~~~~~~~~~~~~~~~~~~~~~~~~~~~~~~\n",
      "Running tests\n",
      "\n",
      "---------------------------------------------------------------------\n",
      "Test summary\n",
      "    Passed: 1\n",
      "    Failed: 0\n",
      "[ooooooooook] 100.0% passed\n",
      "\n"
     ]
    }
   ],
   "source": [
    "ok.grade(\"q3\");"
   ]
  },
  {
   "cell_type": "markdown",
   "metadata": {
    "deletable": false,
    "editable": false
   },
   "source": [
    "## Question 4\n",
    "In the previous questions, we have used cross validation to select the best $\\alpha$'s for ridge regression and lasso regression. Based on this, select the best model with the smallest cross validation error out of all the models and hyperparameters we have considered (either lasso regression with its best $\\alpha$ or ridge regression with its best $\\alpha$). Train this model using the **entire training set** and evaluate the performance of the model on the test set.\n",
    "\n",
    "**Note: If you are using Lasso for your final model, put `max_iter = 1000000` as an argument to `Lasso()`. The reason behind this is that for small regularization parameters, the Lasso Linear Regularization solver takes more iterations to converge.**\n",
    "\n",
    "<!--\n",
    "BEGIN QUESTION\n",
    "name: q4\n",
    "-->"
   ]
  },
  {
   "cell_type": "code",
   "execution_count": 24,
   "metadata": {},
   "outputs": [
    {
     "name": "stdout",
     "output_type": "stream",
     "text": [
      "test RMSE: 4.994121608671173\n"
     ]
    }
   ],
   "source": [
    "final_model = Pipeline([(\"transformer\", StandardScaler()), (\"LinearModel\", \n",
    "                                                            Lasso(alpha = best_alpha_lasso, max_iter = 1000000))])\n",
    "\n",
    "# Fit `final_model`\n",
    "final_model.fit(X_train_normalized, Y_train)\n",
    "\n",
    "# Error of prediction\n",
    "test_RMSE = rmse_score(final_model, X_test_normalized, Y_test)\n",
    "\n",
    "\n",
    "print('test RMSE:', test_RMSE)"
   ]
  },
  {
   "cell_type": "code",
   "execution_count": 25,
   "metadata": {
    "deletable": false,
    "editable": false
   },
   "outputs": [
    {
     "name": "stdout",
     "output_type": "stream",
     "text": [
      "~~~~~~~~~~~~~~~~~~~~~~~~~~~~~~~~~~~~~~~~~~~~~~~~~~~~~~~~~~~~~~~~~~~~~\n",
      "Running tests\n",
      "\n",
      "---------------------------------------------------------------------\n",
      "Test summary\n",
      "    Passed: 1\n",
      "    Failed: 0\n",
      "[ooooooooook] 100.0% passed\n",
      "\n"
     ]
    }
   ],
   "source": [
    "ok.grade(\"q4\");"
   ]
  },
  {
   "cell_type": "markdown",
   "metadata": {},
   "source": [
    "## Submission\n",
    "\n",
    "Congratulations! You are finished with this assignment. Please don't forget to submit by 11:59pm PST on Monday, 04/13!"
   ]
  },
  {
   "cell_type": "markdown",
   "metadata": {
    "deletable": false,
    "editable": false
   },
   "source": [
    "# Submit\n",
    "Make sure you have run all cells in your notebook in order before running the cell below, so that all images/graphs appear in the output.\n",
    "**Please save before submitting!**"
   ]
  },
  {
   "cell_type": "code",
   "execution_count": null,
   "metadata": {
    "deletable": false,
    "editable": false
   },
   "outputs": [
    {
     "data": {
      "application/javascript": [
       "IPython.notebook.save_checkpoint();"
      ],
      "text/plain": [
       "<IPython.core.display.Javascript object>"
      ]
     },
     "metadata": {},
     "output_type": "display_data"
    }
   ],
   "source": [
    "# Save your notebook first, then run this cell to submit.\n",
    "ok.submit()"
   ]
  },
  {
   "cell_type": "code",
   "execution_count": null,
   "metadata": {},
   "outputs": [],
   "source": []
  }
 ],
 "metadata": {
  "kernelspec": {
   "display_name": "Python 3",
   "language": "python",
   "name": "python3"
  },
  "language_info": {
   "codemirror_mode": {
    "name": "ipython",
    "version": 3
   },
   "file_extension": ".py",
   "mimetype": "text/x-python",
   "name": "python",
   "nbconvert_exporter": "python",
   "pygments_lexer": "ipython3",
   "version": "3.7.6"
  }
 },
 "nbformat": 4,
 "nbformat_minor": 2
}
